{
 "cells": [
  {
   "cell_type": "code",
   "execution_count": 81,
   "id": "63a7a137",
   "metadata": {},
   "outputs": [],
   "source": [
    "import cv2\n",
    "import numpy as np\n",
    "from keras.models import model_from_json\n",
    "from datetime import datetime"
   ]
  },
  {
   "cell_type": "code",
   "execution_count": 82,
   "id": "44e5d697",
   "metadata": {},
   "outputs": [],
   "source": [
    "# Define emotion labels\n",
    "emotion_labels = [\"Angry\", \"Disgusted\", \"Fearful\", \"Happy\", \"Neutral\", \"Sad\", \"Surprised\"]"
   ]
  },
  {
   "cell_type": "code",
   "execution_count": 83,
   "id": "6b690dbd",
   "metadata": {},
   "outputs": [],
   "source": [
    "# Load the pre-trained emotion detection model\n",
    "json_file = open('D:\\\\Final Project\\\\Emotion_detection_with_CNN\\\\emotion_model.json', 'r')\n",
    "loaded_model_json = json_file.read()\n",
    "json_file.close()\n",
    "emotion_model = model_from_json(loaded_model_json)\n",
    "emotion_model.load_weights('D:\\\\Final Project\\\\Emotion_detection_with_CNN\\\\emotion_model.h5')\n",
    "print(\"Loaded model from disk\")"
   ]
  },
  {
   "cell_type": "code",
   "execution_count": 84,
   "id": "355083e7",
   "metadata": {},
   "outputs": [],
   "source": [
    "# Initialize the webcam feed\n",
    "cap = cv2.VideoCapture(0)"
   ]
  },
  {
   "cell_type": "code",
   "execution_count": 85,
   "id": "ee1d3eb0",
   "metadata": {},
   "outputs": [],
   "source": [
    "# Initialize a list to store emotion scores\n",
    "emotion_scores_history = []"
   ]
  },
  {
   "cell_type": "code",
   "execution_count": 86,
   "id": "2c2d9a24",
   "metadata": {},
   "outputs": [],
   "source": [
    "# Initialize variables to count the number of frames for each emotion\n",
    "emotion_frame_counts = {label: 0 for label in emotion_labels}"
   ]
  },
  {
   "cell_type": "code",
   "execution_count": 87,
   "id": "3f1c0bd9",
   "metadata": {},
   "outputs": [],
   "source": [
    "import cv2\n",
    "import numpy as np\n",
    "from keras.models import model_from_json\n",
    "from datetime import datetime\n",
    "import time\n",
    "\n",
    "# Define emotion labels\n",
    "emotion_labels = [\"Angry\", \"Disgusted\", \"Fearful\", \"Happy\", \"Neutral\", \"Sad\", \"Surprised\"]\n",
    "\n",
    "# Load the pre-trained emotion detection model\n",
    "json_file = open('D:\\\\Final Project\\\\Emotion_detection_with_CNN\\\\emotion_model.json', 'r')\n",
    "loaded_model_json = json_file.read()\n",
    "json_file.close()\n",
    "emotion_model = model_from_json(loaded_model_json)\n",
    "emotion_model.load_weights('D:\\\\Final Project\\\\Emotion_detection_with_CNN\\\\emotion_model.h5')\n",
    "print(\"Loaded model from disk\")\n",
    "\n",
    "# Initialize the webcam feed\n",
    "cap = cv2.VideoCapture(0)\n",
    "\n",
    "# Initialize a list to store emotion scores\n",
    "emotion_scores_history = []\n",
    "\n",
    "# Initialize variables to count the number of frames for each emotion\n",
    "emotion_frame_counts = {label: 0 for label in emotion_labels}\n",
    "\n",
    "# Initialize timer variables\n",
    "start_time = time.time()\n",
    "interval = 10  # Interval in seconds\n",
    "\n",
    "while True:\n",
    "    # Read a frame from the webcam feed\n",
    "    ret, frame = cap.read()\n",
    "    frame = cv2.resize(frame, (1280, 720))\n",
    "\n",
    "    # Break the loop if there is an issue with reading the frame\n",
    "    if not ret:\n",
    "        break\n",
    "\n",
    "    # Detect faces in the frame\n",
    "    face_detector = cv2.CascadeClassifier('D:\\\\Final Project\\\\Emotion_detection_with_CNN\\\\haarcascade_frontalface_default.xml')\n",
    "    gray_frame = cv2.cvtColor(frame, cv2.COLOR_BGR2GRAY)\n",
    "    num_faces = face_detector.detectMultiScale(gray_frame, scaleFactor=1.3, minNeighbors=5)\n",
    "\n",
    "    # Process each detected face\n",
    "    for (x, y, w, h) in num_faces:\n",
    "        cv2.rectangle(frame, (x, y-50), (x+w, y+h+10), (0, 255, 0), 4)\n",
    "        roi_gray_frame = gray_frame[y:y + h, x:x + w]\n",
    "        cropped_img = np.expand_dims(np.expand_dims(cv2.resize(roi_gray_frame, (48, 48)), -1), 0)\n",
    "\n",
    "        # Predict the emotions\n",
    "        emotion_prediction = emotion_model.predict(cropped_img)\n",
    "\n",
    "        # Store the emotion scores in the history list\n",
    "        emotion_scores_history.append(emotion_prediction.reshape(-1))\n",
    "\n",
    "        # Get the index of the predicted emotion\n",
    "        predicted_emotion_index = np.argmax(emotion_prediction)\n",
    "        predicted_emotion_label = emotion_labels[predicted_emotion_index]\n",
    "\n",
    "        # Update the count for the predicted emotion\n",
    "        emotion_frame_counts[predicted_emotion_label] += 1\n",
    "\n",
    "        cv2.putText(frame, predicted_emotion_label, (x+5, y-20), cv2.FONT_HERSHEY_SIMPLEX, 1, (255, 0, 0), 2, cv2.LINE_AA)\n",
    "\n",
    "    # Display the frame with the bounding boxes and emotion labels\n",
    "    cv2.imshow('Emotion Detection', frame)\n",
    "\n",
    "    # Check if the interval time has elapsed\n",
    "    if time.time() - start_time >= interval:\n",
    "        # Convert the emotion scores history list to a NumPy array for analysis\n",
    "        emotion_scores_array = np.array(emotion_scores_history)\n",
    "\n",
    "        # Calculate mean emotion scores\n",
    "        mean_emotion_scores = np.mean(emotion_scores_array, axis=0)\n",
    "\n",
    "        # Save the mean emotion scores to the output.txt file with a timestamp\n",
    "        output_filename = f\"face_last_prediction.txt\"\n",
    "        with open(output_filename, \"w\") as file:\n",
    "            file.write(\" \".join(f\"{score:.4f}\" for score in mean_emotion_scores))\n",
    "            file.write(\"\\n\")\n",
    "\n",
    "        # Reset timer and emotion scores history\n",
    "        start_time = time.time()\n",
    "        emotion_scores_history = []\n",
    "\n",
    "    # Break the loop if 'q' is pressed\n",
    "    if cv2.waitKey(1) & 0xFF == ord('q'):\n",
    "        break\n",
    "\n",
    "# Release the webcam and close all windows\n",
    "cap.release()\n",
    "cv2.destroyAllWindows()\n"
   ]
  },
  {
   "cell_type": "code",
   "execution_count": 88,
   "id": "4e11ea8c",
   "metadata": {},
   "outputs": [],
   "source": [
    "# Release the webcam and close all windows\n",
    "cap.release()\n",
    "cv2.destroyAllWindows()"
   ]
  },
  {
   "cell_type": "code",
   "execution_count": 89,
   "id": "df1785e2",
   "metadata": {},
   "outputs": [],
   "source": [
    "# while True:\n",
    "#     # Read a frame from the webcam feed\n",
    "#     ret, frame = cap.read()\n",
    "#     frame = cv2.resize(frame, (1280, 720))\n",
    "\n",
    "#     # Break the loop if there is an issue with reading the frame\n",
    "#     if not ret:\n",
    "#         break\n",
    "\n",
    "#     print(\"Frame read successfully\")\n",
    "\n",
    "#     # Detect faces in the frame\n",
    "#     face_detector = cv2.CascadeClassifier('D:\\\\Final Project\\\\Emotion_detection_with_CNN\\\\haarcascade_frontalface_default.xml')\n",
    "#     gray_frame = cv2.cvtColor(frame, cv2.COLOR_BGR2GRAY)\n",
    "#     num_faces = face_detector.detectMultiScale(gray_frame, scaleFactor=1.3, minNeighbors=5)\n",
    "\n",
    "#     print(\"Number of faces detected:\", len(num_faces))\n",
    "\n",
    "#     # Process each detected face\n",
    "#     for (x, y, w, h) in num_faces:\n",
    "#         cv2.rectangle(frame, (x, y-50), (x+w, y+h+10), (0, 255, 0), 4)\n",
    "#         roi_gray_frame = gray_frame[y:y + h, x:x + w]\n",
    "#         cropped_img = np.expand_dims(np.expand_dims(cv2.resize(roi_gray_frame, (48, 48)), -1), 0)\n",
    "\n",
    "#         # Predict the emotions\n",
    "#         emotion_prediction = emotion_model.predict(cropped_img)\n",
    "\n",
    "#         # Store the emotion scores in the history list\n",
    "#         emotion_scores_history.append(emotion_prediction.reshape(-1))\n",
    "\n",
    "#         # Get the index of the predicted emotion\n",
    "#         predicted_emotion_index = np.argmax(emotion_prediction)\n",
    "#         predicted_emotion_label = emotion_labels[predicted_emotion_index]\n",
    "\n",
    "#         # Update the count for the predicted emotion\n",
    "#         emotion_frame_counts[predicted_emotion_label] += 1\n",
    "\n",
    "#         cv2.putText(frame, predicted_emotion_label, (x+5, y-20), cv2.FONT_HERSHEY_SIMPLEX, 1, (255, 0, 0), 2, cv2.LINE_AA)\n",
    "\n",
    "#     # Display the frame with the bounding boxes and emotion labels\n",
    "#     cv2.imshow('Emotion Detection', frame)\n",
    "\n",
    "#     # Break the loop if 'q' is pressed\n",
    "#     if cv2.waitKey(1) & 0xFF == ord('q'):\n",
    "#         break"
   ]
  },
  {
   "cell_type": "code",
   "execution_count": 90,
   "id": "077e7a05",
   "metadata": {},
   "outputs": [],
   "source": [
    "# # Convert the emotion scores history list to a NumPy array for analysis\n",
    "# emotion_scores_array = np.array(emotion_scores_history)"
   ]
  },
  {
   "cell_type": "code",
   "execution_count": 91,
   "id": "39e5d20a",
   "metadata": {},
   "outputs": [],
   "source": [
    "# # Calculate statistical measures (e.g., mean, standard deviation)\n",
    "# mean_emotion_scores = np.mean(emotion_scores_array, axis=0)\n",
    "# std_dev_emotion_scores = np.std(emotion_scores_array, axis=0)"
   ]
  },
  {
   "cell_type": "code",
   "execution_count": 92,
   "id": "60f05311",
   "metadata": {},
   "outputs": [],
   "source": [
    "# # Find the most detected emotion\n",
    "# most_detected_emotion_index = np.argmax(np.sum(emotion_scores_array > 0.5, axis=0))\n",
    "# most_detected_emotion = emotion_labels[most_detected_emotion_index]\n",
    "# print(\"Most Detected Emotion:\", most_detected_emotion)"
   ]
  },
  {
   "cell_type": "code",
   "execution_count": 93,
   "id": "487cb761",
   "metadata": {},
   "outputs": [],
   "source": [
    "# # Generate a timestamp for the file names\n",
    "# timestamp = datetime.now().strftime(\"%Y%m%d%H%M%S\")"
   ]
  },
  {
   "cell_type": "code",
   "execution_count": 94,
   "id": "36dd4edf",
   "metadata": {},
   "outputs": [],
   "source": [
    "# # Convert the emotion scores history list to a NumPy array for analysis\n",
    "# emotion_scores_array = np.array(emotion_scores_history)\n",
    "\n",
    "# # Save the results to the output.txt file with a timestamp\n",
    "# output_filename = f\"face_last_prediction.txt\"\n",
    "# with open(output_filename, \"w\") as file:\n",
    "#     #file.write(\"Mean Emotion Scores: [\")\n",
    "    \n",
    "#     # Write the scores without labels\n",
    "    \n",
    "#     mean_emotion_scores = np.mean(emotion_scores_array, axis=0)\n",
    "#     file.write(\" \".join(f\"{score:.4f}\" for score in mean_emotion_scores))\n",
    "#     file.write(\"\\n\")\n",
    "\n",
    "#     #file.write(\"Standard Deviation of Emotion Scores: [\")\n",
    "#     #file.write(\" \".join(f\"{score:.4f} ({label})\" for score, label in zip(std_dev_emotion_scores, emotion_labels)))\n",
    "#     #file.write(\"]\\n\")\n",
    "\n",
    "#     #file.write(\"Most Detected Emotion: {}\\n\".format(most_detected_emotion))\n",
    "\n",
    "#     # Write the number of frames recognized for each emotion\n",
    "#     #for label, count in emotion_frame_counts.items():\n",
    "#      #  ] file.write(f\"Frames Recognized ({label}): {count}\\n\")"
   ]
  },
  {
   "cell_type": "code",
   "execution_count": 95,
   "id": "5c767186",
   "metadata": {},
   "outputs": [],
   "source": [
    "# # Save the results to the compiled_output.txt file with a timestamp\n",
    "# compiled_output_filename = \"compiled_output.txt\"\n",
    "# with open(compiled_output_filename, \"a\") as file:\n",
    "#     file.write(\"\\n\\nResults at {}: \\n\".format(timestamp))\n",
    "\n",
    "#     file.write(\"Mean Emotion Scores: [\")\n",
    "#     file.write(\" \".join(f\"{score:.4f} ({label})\" for score, label in zip(mean_emotion_scores, emotion_labels)))\n",
    "#     file.write(\"]\\n\")\n",
    "\n",
    "#     file.write(\"Standard Deviation of Emotion Scores: [\")\n",
    "#     file.write(\" \".join(f\"{score:.4f} ({label})\" for score, label in zip(std_dev_emotion_scores, emotion_labels)))\n",
    "#     file.write(\"]\\n\")\n",
    "\n",
    "#     file.write(\"Most Detected Emotion: {}\\n\".format(most_detected_emotion))\n",
    "\n",
    "#     # Write the number of frames recognized for each emotion\n",
    "#     for label, count in emotion_frame_counts.items():\n",
    "#         file.write(f\"Frames Recognized ({label}): {count}\\n\")"
   ]
  },
  {
   "cell_type": "code",
   "execution_count": 96,
   "id": "441b1b41",
   "metadata": {},
   "outputs": [],
   "source": [
    "# # Release the webcam and close all windows\n",
    "# cap.release()\n",
    "# cv2.destroyAllWindows()"
   ]
  },
  {
   "cell_type": "code",
   "execution_count": null,
   "id": "885e0525",
   "metadata": {},
   "outputs": [],
   "source": []
  }
 ],
 "metadata": {
  "jupytext": {
   "cell_metadata_filter": "-all",
   "main_language": "python",
   "notebook_metadata_filter": "-all"
  },
  "kernelspec": {
   "display_name": "Python 3 (ipykernel)",
   "language": "python",
   "name": "python3"
  },
  "language_info": {
   "codemirror_mode": {
    "name": "ipython",
    "version": 3
   },
   "file_extension": ".py",
   "mimetype": "text/x-python",
   "name": "python",
   "nbconvert_exporter": "python",
   "pygments_lexer": "ipython3",
   "version": "3.11.3"
  }
 },
 "nbformat": 4,
 "nbformat_minor": 5
}
