{
 "cells": [
  {
   "cell_type": "code",
   "execution_count": 5,
   "id": "4cdf8fdd",
   "metadata": {},
   "outputs": [
    {
     "ename": "ImportError",
     "evalue": "cannot import name 'Notebook' from 'import_ipynb' (C:\\Users\\alang\\AppData\\Local\\Programs\\Python\\Python311\\Lib\\site-packages\\import_ipynb.py)",
     "output_type": "error",
     "traceback": [
      "\u001b[1;31m---------------------------------------------------------------------------\u001b[0m",
      "\u001b[1;31mImportError\u001b[0m                               Traceback (most recent call last)",
      "Cell \u001b[1;32mIn[5], line 2\u001b[0m\n\u001b[0;32m      1\u001b[0m \u001b[38;5;28;01mimport\u001b[39;00m \u001b[38;5;21;01mmultiprocessing\u001b[39;00m\n\u001b[1;32m----> 2\u001b[0m \u001b[38;5;28;01mfrom\u001b[39;00m \u001b[38;5;21;01mimport_ipynb\u001b[39;00m \u001b[38;5;28;01mimport\u001b[39;00m Notebook  \u001b[38;5;66;03m# Import the import_ipynb package\u001b[39;00m\n\u001b[0;32m      4\u001b[0m \u001b[38;5;66;03m# Define functions to run each project\u001b[39;00m\n\u001b[0;32m      5\u001b[0m \u001b[38;5;28;01mdef\u001b[39;00m \u001b[38;5;21mrun_speech_emotion_recognition\u001b[39m():\n\u001b[0;32m      6\u001b[0m     \u001b[38;5;66;03m# Import and run the speech emotion recognition project code\u001b[39;00m\n",
      "\u001b[1;31mImportError\u001b[0m: cannot import name 'Notebook' from 'import_ipynb' (C:\\Users\\alang\\AppData\\Local\\Programs\\Python\\Python311\\Lib\\site-packages\\import_ipynb.py)"
     ]
    }
   ],
   "source": [
    "import multiprocessing\n",
    "from import_ipynb import Notebook  # Import the import_ipynb package\n",
    "\n",
    "# Define functions to run each project\n",
    "def run_speech_emotion_recognition():\n",
    "    # Import and run the speech emotion recognition project code\n",
    "    speech_notebook = Notebook.load_notebook('D:\\Final Project\\Final_project.ipynb')  # Replace 'path_to_speech_notebook.ipynb' with the actual path\n",
    "    speech_notebook.run_all_cells()\n",
    "\n",
    "def run_face_emotion_recognition():\n",
    "    # Import and run the face emotion recognition project code\n",
    "    face_notebook = Notebook.load_notebook('D:\\Final Project\\Emotion_detection_with_CNN\\Emotion_detection_with_CNN-main\\TestEmotionDetector.ipynb')  # Replace 'path_to_face_notebook.ipynb' with the actual path\n",
    "    face_notebook.run_all_cells()\n",
    "\n",
    "if __name__ == '__main__':\n",
    "    # Create separate processes for each project\n",
    "    speech_process = multiprocessing.Process(target=run_speech_emotion_recognition)\n",
    "    face_process = multiprocessing.Process(target=run_face_emotion_recognition)\n",
    "\n",
    "    # Start the processes\n",
    "    speech_process.start()\n",
    "    face_process.start()\n",
    "\n",
    "    # Wait for both processes to finish\n",
    "    speech_process.join()\n",
    "    face_process.join()\n",
    "\n",
    "    print(\"Both projects have finished running.\")\n"
   ]
  },
  {
   "cell_type": "code",
   "execution_count": null,
   "id": "438e1101",
   "metadata": {},
   "outputs": [],
   "source": [
    "import multiprocessing\n",
    "\n",
    "def run_speech_emotion_recognition():\n",
    "    # Import and run the script for speech emotion recognition\n",
    "    %run 'D:\\Final Project\\Final_project.ipynb'  # Replace with the actual filename\n",
    "\n",
    "def run_face_emotion_recognition():\n",
    "    # Import and run the script for face emotion recognition\n",
    "    %run 'D:\\Final Project\\Emotion_detection_with_CNN\\Emotion_detection_with_CNN-main\\TestEmotionDetector.ipynb'  # Replace with the actual filename\n",
    "\n",
    "if __name__ == '__main__':\n",
    "    # Create processes for speech and face emotion recognition\n",
    "    speech_process = multiprocessing.Process(target=run_speech_emotion_recognition)\n",
    "    face_process = multiprocessing.Process(target=run_face_emotion_recognition)\n",
    "\n",
    "    # Start both processes\n",
    "    speech_process.start()\n",
    "    face_process.start()\n",
    "\n",
    "    # Wait for both processes to finish\n",
    "    speech_process.join()\n",
    "    face_process.join()\n",
    "\n",
    "    print(\"Both processes have finished.\")\n"
   ]
  },
  {
   "cell_type": "code",
   "execution_count": 6,
   "id": "e0d7ea80",
   "metadata": {},
   "outputs": [],
   "source": [
    "import multiprocessing"
   ]
  },
  {
   "cell_type": "code",
   "execution_count": 7,
   "id": "b308ea75",
   "metadata": {},
   "outputs": [
    {
     "ename": "SyntaxError",
     "evalue": "incomplete input (3674256168.py, line 1)",
     "output_type": "error",
     "traceback": [
      "\u001b[1;36m  Cell \u001b[1;32mIn[7], line 1\u001b[1;36m\u001b[0m\n\u001b[1;33m    def run_speech_emotion_recognition():\u001b[0m\n\u001b[1;37m                                         ^\u001b[0m\n\u001b[1;31mSyntaxError\u001b[0m\u001b[1;31m:\u001b[0m incomplete input\n"
     ]
    }
   ],
   "source": [
    "def run_speech_emotion_recognition():"
   ]
  },
  {
   "cell_type": "code",
   "execution_count": 8,
   "id": "80d12a36",
   "metadata": {},
   "outputs": [
    {
     "ename": "SyntaxError",
     "evalue": "invalid syntax (3631524960.py, line 9)",
     "output_type": "error",
     "traceback": [
      "\u001b[1;36m  Cell \u001b[1;32mIn[8], line 9\u001b[1;36m\u001b[0m\n\u001b[1;33m    import 'D:\\Final Project\\Final_project.py'  # Replace 'path_to_speech_script' with the actual path to the converted script\u001b[0m\n\u001b[1;37m           ^\u001b[0m\n\u001b[1;31mSyntaxError\u001b[0m\u001b[1;31m:\u001b[0m invalid syntax\n"
     ]
    }
   ],
   "source": [
    "import multiprocessing\n",
    "import subprocess\n",
    "\n",
    "# Define functions to run each project\n",
    "def run_speech_emotion_recognition():\n",
    "    # Convert speech emotion recognition notebook to Python script\n",
    "    subprocess.run(['jupyter', 'nbconvert', '--to', 'script', 'D:\\Final Project\\Final_project.ipynb'])\n",
    "    # Import and run the speech emotion recognition Python script\n",
    "    import 'D:\\Final Project\\Final_project.py'  # Replace 'path_to_speech_script' with the actual path to the converted script\n",
    "    path_to_speech_script.run_all_cells()\n",
    "\n",
    "def run_face_emotion_recognition():\n",
    "    # Convert face emotion recognition notebook to Python script\n",
    "    subprocess.run(['jupyter', 'nbconvert', '--to', 'script', 'D:\\Final Project\\Emotion_detection_with_CNN\\Emotion_detection_with_CNN-main\\TestEmotionDetector.ipynb'])\n",
    "    # Import and run the face emotion recognition Python script\n",
    "    import 'D:\\Final Project\\Emotion_detection_with_CNN\\Emotion_detection_with_CNN-main\\TestEmotionDetector.py'  # Replace 'path_to_face_script' with the actual path to the converted script\n",
    "    path_to_face_script.run_all_cells()\n",
    "\n",
    "if __name__ == '__main__':\n",
    "    # Create separate processes for each project\n",
    "    speech_process = multiprocessing.Process(target=run_speech_emotion_recognition)\n",
    "    face_process = multiprocessing.Process(target=run_face_emotion_recognition)\n",
    "\n",
    "    # Start the processes\n",
    "    speech_process.start()\n",
    "    face_process.start()\n",
    "\n",
    "    # Wait for both processes to finish\n",
    "    speech_process.join()\n",
    "    face_process.join()\n",
    "\n",
    "    print(\"Both projects have finished running.\")\n"
   ]
  },
  {
   "cell_type": "code",
   "execution_count": 11,
   "id": "1372918e",
   "metadata": {},
   "outputs": [],
   "source": [
    "from multiprocessing import Process\n",
    "\n",
    "def run_notebook(notebook_path):\n",
    "    !jupyter nbconvert --execute --inplace $notebook_path\n",
    "\n",
    "notebook1_process = Process(target=run_notebook, args=('D:\\Final Project\\Final_project.ipynb',))\n",
    "notebook2_process = Process(target=run_notebook, args=('D:\\Final Project\\Emotion_detection_with_CNN\\Emotion_detection_with_CNN-main\\TestEmotionDetector.ipynb',))\n",
    "\n",
    "notebook1_process.start()\n",
    "notebook2_process.start()\n",
    "\n",
    "notebook1_process.join()\n",
    "notebook2_process.join()\n"
   ]
  },
  {
   "cell_type": "code",
   "execution_count": 12,
   "id": "6e77ddba",
   "metadata": {},
   "outputs": [],
   "source": [
    "from multiprocessing import Process\n",
    "import traceback\n",
    "\n",
    "def run_notebook(notebook_path):\n",
    "    try:\n",
    "        !jupyter nbconvert --execute --inplace $notebook_path\n",
    "        print(f\"Notebook {notebook_path} executed successfully.\")\n",
    "    except Exception as e:\n",
    "        print(f\"Error executing notebook {notebook_path}:\")\n",
    "        print(traceback.format_exc())\n",
    "\n",
    "notebook1_process = Process(target=run_notebook, args=('D:\\Final Project\\Final_project.ipynb',))\n",
    "notebook2_process = Process(target=run_notebook, args=('D:\\Final Project\\Emotion_detection_with_CNN\\Emotion_detection_with_CNN-main\\TestEmotionDetector.ipynb',))\n",
    "\n",
    "notebook1_process.start()\n",
    "notebook2_process.start()\n",
    "\n",
    "notebook1_process.join()\n",
    "notebook2_process.join()\n"
   ]
  },
  {
   "cell_type": "code",
   "execution_count": null,
   "id": "5d2ee0a3",
   "metadata": {},
   "outputs": [],
   "source": []
  }
 ],
 "metadata": {
  "kernelspec": {
   "display_name": "Python 3 (ipykernel)",
   "language": "python",
   "name": "python3"
  },
  "language_info": {
   "codemirror_mode": {
    "name": "ipython",
    "version": 3
   },
   "file_extension": ".py",
   "mimetype": "text/x-python",
   "name": "python",
   "nbconvert_exporter": "python",
   "pygments_lexer": "ipython3",
   "version": "3.11.3"
  }
 },
 "nbformat": 4,
 "nbformat_minor": 5
}
