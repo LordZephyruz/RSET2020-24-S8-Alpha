{
  "nbformat": 4,
  "nbformat_minor": 0,
  "metadata": {
    "colab": {
      "provenance": []
    },
    "kernelspec": {
      "name": "python3",
      "display_name": "Python 3"
    },
    "language_info": {
      "name": "python"
    }
  },
  "cells": [
    {
      "cell_type": "markdown",
      "source": [
        "**This is the initial training script for inappropriate content detection, using YOLOv8 model.**"
      ],
      "metadata": {
        "id": "CxilPoJACyOX"
      }
    },
    {
      "cell_type": "code",
      "source": [
        "%pip install torch torchvision tqdm"
      ],
      "metadata": {
        "id": "iQuUSvspCq8J"
      },
      "execution_count": null,
      "outputs": []
    },
    {
      "cell_type": "code",
      "execution_count": null,
      "metadata": {
        "id": "BiiYXQJ8CP61"
      },
      "outputs": [],
      "source": [
        "import torch\n",
        "import torch.nn as nn\n",
        "import torch.optim as optim\n",
        "from torch.utils.data import Dataset, DataLoader\n",
        "from torchvision import transforms, datasets\n",
        "from tqdm import tqdm\n",
        "\n",
        "# Define YOLOv8 model\n",
        "class ConvBlock(nn.Module):\n",
        "    def __init__(self, in_channels, out_channels, kernel_size, stride, padding):\n",
        "        super(ConvBlock, self).__init__()\n",
        "        self.conv = nn.Conv2d(in_channels, out_channels, kernel_size, stride, padding)\n",
        "        self.batchnorm = nn.BatchNorm2d(out_channels)\n",
        "        self.activation = nn.LeakyReLU(0.1)\n",
        "\n",
        "    def forward(self, x):\n",
        "        x = self.conv(x)\n",
        "        x = self.batchnorm(x)\n",
        "        x = self.activation(x)\n",
        "        return x\n",
        "\n",
        "class YOLOv8(nn.Module):\n",
        "    def __init__(self, num_classes):\n",
        "        super(YOLOv8, self).__init__()\n",
        "        self.conv1 = ConvBlock(3, 64, 7, 2, 3)\n",
        "        self.pool1 = nn.MaxPool2d(2, 2)\n",
        "\n",
        "        self.conv2 = ConvBlock(64, 192, 3, 1, 1)\n",
        "        self.pool2 = nn.MaxPool2d(2, 2)\n",
        "\n",
        "        self.conv3_1 = ConvBlock(192, 128, 1, 1, 0)\n",
        "        self.conv3_2 = ConvBlock(128, 256, 3, 1, 1)\n",
        "        self.conv3_3 = ConvBlock(256, 256, 1, 1, 0)\n",
        "        self.conv3_4 = ConvBlock(256, 512, 3, 1, 1)\n",
        "        self.pool3 = nn.MaxPool2d(2, 2)\n",
        "\n",
        "        self.conv4_1 = ConvBlock(512, 256, 1, 1, 0)\n",
        "        self.conv4_2 = ConvBlock(256, 512, 3, 1, 1)\n",
        "        self.conv4_3 = ConvBlock(512, 256, 1, 1, 0)\n",
        "        self.conv4_4 = ConvBlock(256, 512, 3, 1, 1)\n",
        "        self.conv4_5 = ConvBlock(512, 256, 1, 1, 0)\n",
        "        self.conv4_6 = ConvBlock(256, 512, 3, 1, 1)\n",
        "        self.conv4_7 = ConvBlock(512, 256, 1, 1, 0)\n",
        "        self.conv4_8 = ConvBlock(256, 512, 3, 1, 1)\n",
        "        self.conv4_9 = ConvBlock(512, 512, 1, 1, 0)\n",
        "        self.conv4_10 = ConvBlock(512, 1024, 3, 1, 1)\n",
        "        self.pool4 = nn.MaxPool2d(2, 2)\n",
        "\n",
        "        self.conv5_1 = ConvBlock(1024, 512, 1, 1, 0)\n",
        "        self.conv5_2 = ConvBlock(512, 1024, 3, 1, 1)\n",
        "        self.conv5_3 = ConvBlock(1024, 512, 1, 1, 0)\n",
        "        self.conv5_4 = ConvBlock(512, 1024, 3, 1, 1)\n",
        "        self.conv5_5 = ConvBlock(1024, 1024, 3, 1, 1)\n",
        "        self.conv5_6 = ConvBlock(1024, 1024, 3, 2, 1)\n",
        "\n",
        "        self.conv6_1 = ConvBlock(1024, 1024, 3, 1, 1)\n",
        "        self.conv6_2 = ConvBlock(1024, 1024, 3, 1, 1)\n",
        "\n",
        "        self.fc1 = nn.Linear(7 * 7 * 1024, 4096)\n",
        "        self.fc2 = nn.Linear(4096, num_classes)\n",
        "\n",
        "    def forward(self, x):\n",
        "        x = self.pool1(self.conv1(x))\n",
        "        x = self.pool2(self.conv2(x))\n",
        "        x = self.pool3(self.conv3_4(self.conv3_3(self.conv3_2(self.conv3_1(x)))))\n",
        "        x = self.pool4(self.conv4_10(self.conv4_9(self.conv4_8(self.conv4_7(self.conv4_6(self.conv4_5(self.conv4_4(self.conv4_3(self.conv4_2(self.conv4_1(x)))))))))))\n",
        "        x = self.conv5_6(self.conv5_5(self.conv5_4(self.conv5_3(self.conv5_2(self.conv5_1(x))))))\n",
        "\n",
        "        x = self.conv6_2(self.conv6_1(x))\n",
        "\n",
        "        x = x.view(-1, 7 * 7 * 1024)\n",
        "        x = nn.ReLU()(self.fc1(x))\n",
        "        x = self.fc2(x)\n",
        "        return x\n",
        "\n",
        "# Define dataset class\n",
        "class CustomDataset(Dataset):\n",
        "    def __init__(self, data_dir, transform=None):\n",
        "        self.data = datasets.ImageFolder(root=data_dir, transform=transform)\n",
        "\n",
        "    def __len__(self):\n",
        "        return len(self.data)\n",
        "\n",
        "    def __getitem__(self, idx):\n",
        "        img, label = self.data[idx]\n",
        "        return img, label"
      ]
    },
    {
      "cell_type": "code",
      "source": [
        "\n",
        "# Define transformations\n",
        "transform = transforms.Compose([\n",
        "    transforms.Resize((416, 416)),\n",
        "    transforms.ToTensor(),\n",
        "])\n",
        "\n",
        "# Load dataset\n",
        "dataset = CustomDataset(data_dir='\\dataset', transform=transform)\n",
        "dataloader = DataLoader(dataset, batch_size=8, shuffle=True)\n",
        "\n",
        "# Set device\n",
        "device = torch.device(\"cuda\" if torch.cuda.is_available() else \"cpu\")\n",
        "\n",
        "# Define model, optimizer, and loss function\n",
        "num_classes = 6\n",
        "model = YOLOv8(num_classes=num_classes)\n",
        "model.to(device)\n",
        "\n",
        "optimizer = optim.Adam(model.parameters(), lr=0.001)\n",
        "criterion = nn.CrossEntropyLoss()"
      ],
      "metadata": {
        "id": "6HVlr6ZBCZIY"
      },
      "execution_count": null,
      "outputs": []
    },
    {
      "cell_type": "code",
      "source": [
        "# Training loop\n",
        "epochs = 10\n",
        "for epoch in range(epochs):\n",
        "    model.train()\n",
        "    running_loss = 0.0\n",
        "    for images, labels in tqdm(dataloader):\n",
        "        images, labels = images.to(device), labels.to(device)\n",
        "\n",
        "        optimizer.zero_grad()\n",
        "        outputs = model(images)\n",
        "        loss = criterion(outputs, labels)\n",
        "        loss.backward()\n",
        "        optimizer.step()\n",
        "\n",
        "        running_loss += loss.item()\n",
        "    print(f\"Epoch {epoch+1}/{epochs}, Loss: {running_loss/len(dataloader)}\")"
      ],
      "metadata": {
        "id": "RfYpjf-bCfn0"
      },
      "execution_count": null,
      "outputs": []
    },
    {
      "cell_type": "code",
      "source": [
        "# Evaluation\n",
        "model.eval()\n",
        "correct = 0\n",
        "total = 0\n",
        "with torch.no_grad():\n",
        "    for images, labels in dataloader:\n",
        "        images, labels = images.to(device), labels.to(device)\n",
        "        outputs = model(images)\n",
        "        _, predicted = torch.max(outputs.data, 1)\n",
        "        total += labels.size(0)\n",
        "        correct += (predicted == labels).sum().item()\n",
        "\n",
        "print(f\"Accuracy: {100 * correct / total}%\")\n"
      ],
      "metadata": {
        "id": "R5Sjzf5iChkP"
      },
      "execution_count": null,
      "outputs": []
    }
  ]
}