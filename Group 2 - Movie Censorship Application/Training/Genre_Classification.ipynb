{
  "cells": [
    {
      "cell_type": "code",
      "execution_count": null,
      "metadata": {
        "colab": {
          "base_uri": "https://localhost:8080/"
        },
        "id": "LZ24IlxzF_o-",
        "outputId": "9fd45284-3822-4673-a7bf-e16a79e63fd3"
      },
      "outputs": [
        {
          "output_type": "stream",
          "name": "stdout",
          "text": [
            "Drive already mounted at /content/drive; to attempt to forcibly remount, call drive.mount(\"/content/drive\", force_remount=True).\n"
          ]
        }
      ],
      "source": [
        "from google.colab import drive\n",
        "drive.mount('/content/drive')"
      ]
    },
    {
      "cell_type": "code",
      "execution_count": null,
      "metadata": {
        "colab": {
          "base_uri": "https://localhost:8080/"
        },
        "id": "TYuhXJ5S5dUl",
        "outputId": "6357059d-6265-4cce-e064-bab8b1cd3209"
      },
      "outputs": [
        {
          "output_type": "stream",
          "name": "stdout",
          "text": [
            "Requirement already satisfied: wget in /usr/local/lib/python3.10/dist-packages (3.2)\n",
            "Requirement already satisfied: tmdbsimple in /usr/local/lib/python3.10/dist-packages (2.9.1)\n",
            "Requirement already satisfied: cinemagoer in /usr/local/lib/python3.10/dist-packages (2023.5.1)\n",
            "Requirement already satisfied: requests in /usr/local/lib/python3.10/dist-packages (2.31.0)\n",
            "Requirement already satisfied: stop-words in /usr/local/lib/python3.10/dist-packages (2018.7.23)\n",
            "Requirement already satisfied: SQLAlchemy in /usr/local/lib/python3.10/dist-packages (from cinemagoer) (2.0.29)\n",
            "Requirement already satisfied: lxml in /usr/local/lib/python3.10/dist-packages (from cinemagoer) (4.9.4)\n",
            "Requirement already satisfied: charset-normalizer<4,>=2 in /usr/local/lib/python3.10/dist-packages (from requests) (3.3.2)\n",
            "Requirement already satisfied: idna<4,>=2.5 in /usr/local/lib/python3.10/dist-packages (from requests) (3.6)\n",
            "Requirement already satisfied: urllib3<3,>=1.21.1 in /usr/local/lib/python3.10/dist-packages (from requests) (2.0.7)\n",
            "Requirement already satisfied: certifi>=2017.4.17 in /usr/local/lib/python3.10/dist-packages (from requests) (2024.2.2)\n",
            "Requirement already satisfied: typing-extensions>=4.6.0 in /usr/local/lib/python3.10/dist-packages (from SQLAlchemy->cinemagoer) (4.11.0)\n",
            "Requirement already satisfied: greenlet!=0.4.17 in /usr/local/lib/python3.10/dist-packages (from SQLAlchemy->cinemagoer) (3.0.3)\n"
          ]
        }
      ],
      "source": [
        "%pip install wget tmdbsimple cinemagoer requests stop-words"
      ]
    },
    {
      "cell_type": "code",
      "execution_count": null,
      "metadata": {
        "id": "-H_U7-Q93yzv"
      },
      "outputs": [],
      "source": [
        "import torchvision\n",
        "import urllib\n",
        "import requests\n",
        "import json\n",
        "#import imdb\n",
        "import time\n",
        "import itertools\n",
        "import wget\n",
        "import os\n",
        "import tmdbsimple as tmdb\n",
        "import numpy as np\n",
        "import random\n",
        "import matplotlib\n",
        "import matplotlib.pyplot as plt\n",
        "%matplotlib inline\n",
        "import seaborn as sns\n",
        "import pickle\n",
        "import requests"
      ]
    },
    {
      "cell_type": "code",
      "execution_count": null,
      "metadata": {
        "id": "cV_UpcfaFzxF"
      },
      "outputs": [],
      "source": [
        "# Path to the intended directory\n",
        "directory_path = '/content/drive/MyDrive/genre_module/'\n",
        "\n",
        "# Change directory\n",
        "os.chdir(directory_path)"
      ]
    },
    {
      "cell_type": "code",
      "execution_count": null,
      "metadata": {
        "colab": {
          "base_uri": "https://localhost:8080/"
        },
        "id": "gAfgh_KqGOS3",
        "outputId": "23708843-cca1-4ae8-e851-1f10f3bf7cc8"
      },
      "outputs": [
        {
          "output_type": "stream",
          "name": "stdout",
          "text": [
            "/content/drive/MyDrive/genre_module\n"
          ]
        }
      ],
      "source": [
        "print(os.getcwd())  # This will print the current directory"
      ]
    },
    {
      "cell_type": "code",
      "execution_count": null,
      "metadata": {
        "colab": {
          "base_uri": "https://localhost:8080/"
        },
        "id": "RYNEg_tnFgNu",
        "outputId": "8ae0a090-785a-420a-cfe7-fbdc0082e567"
      },
      "outputs": [
        {
          "output_type": "stream",
          "name": "stdout",
          "text": [
            "Folder already exists\n"
          ]
        }
      ],
      "source": [
        "# # set here the path where you want the scraped folders to be saved!\n",
        "# poster_folder='posters_final/'\n",
        "# if poster_folder.split('/')[0] in os.listdir('./'):\n",
        "#     print('Folder already exists')\n",
        "# else:\n",
        "#     os.mkdir('./'+poster_folder)"
      ]
    },
    {
      "cell_type": "code",
      "execution_count": null,
      "metadata": {
        "colab": {
          "base_uri": "https://localhost:8080/",
          "height": 36
        },
        "id": "xaBtxcPBFiPJ",
        "outputId": "74fcc310-1bcf-48d8-86ed-05188a115f36"
      },
      "outputs": [
        {
          "output_type": "execute_result",
          "data": {
            "text/plain": [
              "'posters_final/'"
            ],
            "application/vnd.google.colaboratory.intrinsic+json": {
              "type": "string"
            }
          },
          "metadata": {},
          "execution_count": 152
        }
      ],
      "source": [
        "# poster_folder"
      ]
    },
    {
      "cell_type": "code",
      "execution_count": null,
      "metadata": {
        "id": "0q_b190L3yzw"
      },
      "outputs": [],
      "source": [
        "# # For the purpose of this example, i will be working with the 1999 Sci-Fi movie - \"The Matrix\"!\n",
        "\n",
        "# api_key = 'e8f9ca6ec1eb32c9d333d52b958f07b7' #Enter your own API key here to run the code below.\n",
        "# # Generate your own API key as explained above :)\n",
        "\n",
        "# tmdb.API_KEY = api_key #This sets the API key setting for the tmdb object\n",
        "# search = tmdb.Search() #this instantiates a tmdb \"search\" object which allows your to search for the movie\n",
        "# import os.path\n",
        "\n",
        "# def download_poster(url, save_path):\n",
        "#     response = requests.get(url)\n",
        "#     if response.status_code == 200:\n",
        "#         with open(save_path, 'wb') as f:\n",
        "#             f.write(response.content)\n",
        "#         print(\"Poster downloaded successfully!\")\n",
        "#     else:\n",
        "#         print(\"Failed to download poster. Status code:\", response.status_code)\n",
        "\n",
        "# # These functions take in a string movie name i.e. like \"The Matrix\" or \"Interstellar\"\n",
        "# # What they return is pretty much clear in the name - Poster, ID , Info or genre of the Movie!\n",
        "# def grab_poster_tmdb(movie):\n",
        "#     response = search.movie(query=movie)\n",
        "#     id=response['results'][0]['id']\n",
        "#     movie = tmdb.Movies(id)\n",
        "#     posterp=movie.info()['poster_path']\n",
        "#     title=movie.info()['original_title']\n",
        "\n",
        "#     base_url = \"https://image.tmdb.org/t/p/original\"\n",
        "#     # Construct the full URL for the poster\n",
        "#     poster_url = f\"{base_url}{posterp}\"\n",
        "#     # Ensure poster_folder exists\n",
        "#     os.makedirs(poster_folder, exist_ok=True)  # Create directory if it doesn't exist\n",
        "#     # Generate a safe filename (replace spaces with underscores)\n",
        "#     filename = title.replace(\" \", \"_\") + \".jpg\"\n",
        "#     filepath = os.path.join(poster_folder, filename)\n",
        "#     download_poster(poster_url, filepath)\n",
        "\n",
        "# def get_movie_id_tmdb(movie):\n",
        "#     response = search.movie(query=movie)\n",
        "#     movie_id=response['results'][0]['id']\n",
        "#     return movie_id\n",
        "\n",
        "# def get_movie_info_tmdb(movie):\n",
        "#     response = search.movie(query=movie)\n",
        "#     id=response['results'][0]['id']\n",
        "#     movie = tmdb.Movies(id)\n",
        "#     info=movie.info()\n",
        "#     return info\n",
        "\n",
        "# def get_movie_genres_tmdb(movie):\n",
        "#     response = search.movie(query=movie)\n",
        "#     id=response['results'][0]['id']\n",
        "#     movie = tmdb.Movies(id)\n",
        "#     genres=movie.info()['genres']\n",
        "#     return genres"
      ]
    },
    {
      "cell_type": "code",
      "execution_count": null,
      "metadata": {
        "id": "mfGpNrJN3yzx"
      },
      "outputs": [],
      "source": [
        "# print(get_movie_genres_tmdb(\"The Matrix\"))"
      ]
    },
    {
      "cell_type": "code",
      "execution_count": null,
      "metadata": {
        "id": "xOk8chuw3yzx"
      },
      "outputs": [],
      "source": [
        "# info=get_movie_info_tmdb(\"The Matrix\")\n",
        "# print(\"All the Movie information from TMDB gets stored in a dictionary with the following keys for easy access -\")\n",
        "# info.keys()"
      ]
    },
    {
      "cell_type": "code",
      "execution_count": null,
      "metadata": {
        "id": "8m4lH_wQ3yzx"
      },
      "outputs": [],
      "source": [
        "# info=get_movie_info_tmdb(\"The Matrix\")\n",
        "# print(info['tagline'])"
      ]
    },
    {
      "cell_type": "code",
      "execution_count": null,
      "metadata": {
        "id": "62MqcT-K3yzz"
      },
      "outputs": [],
      "source": [
        "# all_movies=tmdb.Movies()\n",
        "# top_movies=all_movies.popular()\n",
        "\n",
        "# # This is a dictionary, and to access results we use the key 'results' which returns info on 20 movies\n",
        "# print(len(top_movies['results']))\n",
        "# top20_movs=top_movies['results']"
      ]
    },
    {
      "cell_type": "code",
      "execution_count": null,
      "metadata": {
        "id": "v7BpYT203yz0"
      },
      "outputs": [],
      "source": [
        "# first_movie=top20_movs[0]\n",
        "# print(\"Here is all the information you can get on this movie - \")\n",
        "# print(first_movie)\n",
        "# print(\"\\n\\nThe title of the first movie is - \", first_movie['title'])"
      ]
    },
    {
      "cell_type": "code",
      "execution_count": null,
      "metadata": {
        "id": "BsZJ3JsM3yz0"
      },
      "outputs": [],
      "source": [
        "# for i in range(len(top20_movs)):\n",
        "#     mov=top20_movs[i]\n",
        "#     title=mov['title']\n",
        "#     print(title)\n",
        "#     if i==4:\n",
        "#         break"
      ]
    },
    {
      "cell_type": "code",
      "execution_count": null,
      "metadata": {
        "id": "qFwDskaP3yz1"
      },
      "outputs": [],
      "source": [
        "# for i in range(len(top20_movs)):\n",
        "#     mov=top20_movs[i]\n",
        "#     genres=mov['genre_ids']\n",
        "#     print(genres)\n",
        "#     if i==4:\n",
        "#         break"
      ]
    },
    {
      "cell_type": "code",
      "execution_count": null,
      "metadata": {
        "id": "t2mv_UdX3yz1"
      },
      "outputs": [],
      "source": [
        "# # Create a tmdb genre object!\n",
        "# genres=tmdb.Genres()\n",
        "# # the list() method of the Genres() class returns a listing of all genres in the form of a dictionary.\n",
        "# list_of_genres=genres.movie_list()['genres']"
      ]
    },
    {
      "cell_type": "code",
      "execution_count": null,
      "metadata": {
        "id": "_qTqQ7j23yz1"
      },
      "outputs": [],
      "source": [
        "# Genre_ID_to_name={}\n",
        "# for i in range(len(list_of_genres)):\n",
        "#     genre_id=list_of_genres[i]['id']\n",
        "#     genre_name=list_of_genres[i]['name']\n",
        "#     Genre_ID_to_name[genre_id]=genre_name"
      ]
    },
    {
      "cell_type": "code",
      "execution_count": null,
      "metadata": {
        "id": "QbXYqf5d3yz2"
      },
      "outputs": [],
      "source": [
        "# for i in range(len(top20_movs)):\n",
        "#     mov=top20_movs[i]\n",
        "#     title=mov['title']\n",
        "#     genre_ids=mov['genre_ids']\n",
        "#     genre_names=[]\n",
        "#     for id in genre_ids:\n",
        "#         genre_name=Genre_ID_to_name[id]\n",
        "#         genre_names.append(genre_name)\n",
        "#     print(title,genre_names)\n",
        "#     if i==4:\n",
        "#         break"
      ]
    },
    {
      "cell_type": "code",
      "execution_count": null,
      "metadata": {
        "id": "YKIR2rJh3yz2"
      },
      "outputs": [],
      "source": [
        "# all_movies=tmdb.Movies()\n",
        "# top_movies=all_movies.popular()\n",
        "\n",
        "# # This is a dictionary, and to access results we use the key 'results' which returns info on 20 movies\n",
        "# len(top_movies['results'])\n",
        "# top20_movs=top_movies['results']"
      ]
    },
    {
      "cell_type": "code",
      "execution_count": null,
      "metadata": {
        "id": "xtAXYKmH3yz2"
      },
      "outputs": [],
      "source": [
        "# Comment out this cell once the data is saved into pickle file.\n",
        "# Commented out\n",
        "# all_movies=tmdb.Movies()\n",
        "# top1000_movies=[]\n",
        "# print('Pulling movie list, Please wait...')\n",
        "# for i in range(1,51):\n",
        "#     if i%15==0:\n",
        "#         time.sleep(7)\n",
        "#     movies_on_this_page=all_movies.popular(page=i)['results']\n",
        "#     top1000_movies.extend(movies_on_this_page)\n",
        "# len(top1000_movies)\n",
        "# f3=open('movie_list.pckl','wb')\n",
        "# pickle.dump(top1000_movies,f3)\n",
        "# f3.close()\n",
        "# print('Done!')"
      ]
    },
    {
      "cell_type": "code",
      "execution_count": null,
      "metadata": {
        "id": "DEXIXfqY3yz3"
      },
      "outputs": [],
      "source": [
        "# f3=open('movie_list.pckl','rb')\n",
        "# top1000_movies=pickle.load(f3)\n",
        "# f3.close()"
      ]
    },
    {
      "cell_type": "code",
      "execution_count": null,
      "metadata": {
        "id": "fg_Sd6DI3yz3"
      },
      "outputs": [],
      "source": [
        "# # This function just generates all possible pairs of movies\n",
        "# def list2pairs(l):\n",
        "#     # itertools.combinations(l,2) makes all pairs of length 2 from list l.\n",
        "#     pairs = list(itertools.combinations(l, 2))\n",
        "#     # then the one item pairs, as duplicate pairs aren't accounted for by itertools\n",
        "#     for i in l:\n",
        "#         pairs.append([i,i])\n",
        "#     return pairs"
      ]
    },
    {
      "cell_type": "code",
      "execution_count": null,
      "metadata": {
        "id": "6TPnaYFw3yz3"
      },
      "outputs": [],
      "source": [
        "# # get all genre lists pairs from all movies\n",
        "# allPairs = []\n",
        "# for movie in top1000_movies:\n",
        "#     allPairs.extend(list2pairs(movie['genre_ids']))\n",
        "\n",
        "# nr_ids = np.unique(allPairs)\n",
        "# visGrid = np.zeros((len(nr_ids), len(nr_ids)))\n",
        "# for p in allPairs:\n",
        "#     visGrid[np.argwhere(nr_ids==p[0]), np.argwhere(nr_ids==p[1])]+=1\n",
        "#     if p[1] != p[0]:\n",
        "#         visGrid[np.argwhere(nr_ids==p[1]), np.argwhere(nr_ids==p[0])]+=1"
      ]
    },
    {
      "cell_type": "code",
      "execution_count": null,
      "metadata": {
        "id": "YuQqlFHW3yz3"
      },
      "outputs": [],
      "source": [
        "print(visGrid.shape)\n",
        "print(len(Genre_ID_to_name.keys()))"
      ]
    },
    {
      "cell_type": "code",
      "execution_count": null,
      "metadata": {
        "id": "IJope-gl3yz4",
        "colab": {
          "base_uri": "https://localhost:8080/",
          "height": 537
        },
        "outputId": "a683f9a4-f329-4dd7-8be6-04a2718632c8"
      },
      "outputs": [
        {
          "output_type": "execute_result",
          "data": {
            "text/plain": [
              "<Axes: >"
            ]
          },
          "metadata": {},
          "execution_count": 310
        },
        {
          "output_type": "display_data",
          "data": {
            "text/plain": [
              "<Figure size 640x480 with 2 Axes>"
            ],
            "image/png": "[encoded data removed]"
          },
          "metadata": {}
        }
      ],
      "source": [
        "annot_lookup = []\n",
        "for i in range(len(nr_ids)):\n",
        "    annot_lookup.append(Genre_ID_to_name[nr_ids[i]])\n",
        "\n",
        "sns.heatmap(visGrid, xticklabels=annot_lookup, yticklabels=annot_lookup)"
      ]
    },
    {
      "cell_type": "code",
      "execution_count": null,
      "metadata": {
        "id": "H40UiVkT3yz4"
      },
      "outputs": [],
      "source": [
        "from sklearn.cluster import SpectralCoclustering"
      ]
    },
    {
      "cell_type": "code",
      "execution_count": null,
      "metadata": {
        "id": "oI0eV8gG3yz4",
        "colab": {
          "base_uri": "https://localhost:8080/",
          "height": 541
        },
        "outputId": "f89fdb44-a180-4ed2-ec31-060756cb9998"
      },
      "outputs": [
        {
          "output_type": "display_data",
          "data": {
            "text/plain": [
              "<Figure size 640x480 with 2 Axes>"
            ],
            "image/png": "[encoded data removed]"
          },
          "metadata": {}
        }
      ],
      "source": [
        "model = SpectralCoclustering(n_clusters=5)\n",
        "model.fit(visGrid)\n",
        "\n",
        "fit_data = visGrid[np.argsort(model.row_labels_)]\n",
        "fit_data = fit_data[:, np.argsort(model.column_labels_)]\n",
        "\n",
        "annot_lookup_sorted = []\n",
        "for i in np.argsort(model.row_labels_):\n",
        "    annot_lookup_sorted.append(Genre_ID_to_name[nr_ids[i]])\n",
        "\n",
        "sns.heatmap(fit_data, xticklabels=annot_lookup_sorted, yticklabels=annot_lookup_sorted, annot=False)\n",
        "plt.title(\"After biclustering; rearranged to show biclusters\")\n",
        "\n",
        "plt.show()"
      ]
    },
    {
      "cell_type": "code",
      "execution_count": null,
      "metadata": {
        "id": "IeN16hAz3yz5"
      },
      "outputs": [],
      "source": [
        "# Done before, reading from pickle file now to maintain consistency of data!\n",
        "# We now sample 100 movies per genre. Problem is that the sorting is by popular movies, so they will overlap.\n",
        "# Need to exclude movies that were already sampled.\n",
        "# movies = []\n",
        "# baseyear = 2017\n",
        "\n",
        "# from urllib.request import urlopen\n",
        "\n",
        "# print('Starting pulling movies from TMDB. If you want to debug, uncomment the print command. This will take a while, please wait...')\n",
        "# done_ids=[]\n",
        "# for g_id in nr_ids:\n",
        "#     #print('Pulling movies for genre ID '+g_id)\n",
        "#     baseyear -= 1\n",
        "#     for page in range(1,6,1):\n",
        "#         time.sleep(0.5)\n",
        "\n",
        "#         url = 'https://api.themoviedb.org/3/discover/movie?api_key=' + api_key\n",
        "#         url += '&language=en-US&sort_by=popularity.desc&year=' + str(baseyear)\n",
        "#         url += '&with_genres=' + str(g_id) + '&page=' + str(page)\n",
        "\n",
        "#         data = urlopen(url).read()\n",
        "\n",
        "#         dataDict = json.loads(data)\n",
        "#         movies.extend(dataDict[\"results\"])\n",
        "#     done_ids.append(str(g_id))\n",
        "# print(\"Pulled movies for genres - \"+','.join(done_ids))"
      ]
    },
    {
      "cell_type": "code",
      "execution_count": null,
      "metadata": {
        "id": "SGRR_PuZ3yz5"
      },
      "outputs": [],
      "source": [
        "# f6=open(\"movies_for_posters\",'wb')\n",
        "# pickle.dump(movies,f6)\n",
        "# f6.close()"
      ]
    },
    {
      "cell_type": "code",
      "execution_count": null,
      "metadata": {
        "id": "aMJsov5V3yz5"
      },
      "outputs": [],
      "source": [
        "# f6=open(\"movies_for_posters\",'rb')\n",
        "# movies=pickle.load(f6)\n",
        "# f6.close()"
      ]
    },
    {
      "cell_type": "code",
      "execution_count": null,
      "metadata": {
        "id": "XQdbo3Ro3yz5"
      },
      "outputs": [],
      "source": [
        "# movie_ids = [m['id'] for m in movies]\n",
        "# print(\"originally we had \",len(movie_ids),\" movies\")\n",
        "# movie_ids=np.unique(movie_ids)\n",
        "# print(len(movie_ids))\n",
        "# seen_before=[]\n",
        "# no_duplicate_movies=[]\n",
        "# for i in range(len(movies)):\n",
        "#     movie=movies[i]\n",
        "#     id=movie['id']\n",
        "#     if id in seen_before:\n",
        "#         continue\n",
        "# #         print \"Seen before\"\n",
        "#     else:\n",
        "#         seen_before.append(id)\n",
        "#         no_duplicate_movies.append(movie)\n",
        "# print(\"After removing duplicates we have \",len(no_duplicate_movies), \" movies\")"
      ]
    },
    {
      "cell_type": "code",
      "execution_count": null,
      "metadata": {
        "id": "LPMmE-H63yz6",
        "scrolled": true
      },
      "outputs": [],
      "source": [
        "# poster_movies=[]\n",
        "# counter=0\n",
        "# movies_no_poster=[]\n",
        "# print(\"Total movies : \",len(movies))\n",
        "# print(\"Started downloading posters...\")\n",
        "# for movie in movies:\n",
        "#     id=movie['id']\n",
        "#     title=movie['title']\n",
        "#     if counter==1:\n",
        "#         print('Downloaded first. Code is working fine. Please wait, this will take quite some time...')\n",
        "#     if counter%300==0 and counter!=0:\n",
        "#         print(\"Done with \",counter,\" movies!\")\n",
        "#         print(\"Trying to get poster for \", title)\n",
        "#     try:\n",
        "#         # below single line to be commented out if already downloaded\n",
        "#         grab_poster_tmdb(title)\n",
        "#         poster_movies.append(movie)\n",
        "#     except:\n",
        "#         try:\n",
        "#             time.sleep(7)\n",
        "#             grab_poster_tmdb(title)\n",
        "#             poster_movies.append(movie)\n",
        "#         except:\n",
        "#             movies_no_poster.append(movie)\n",
        "#     counter+=1\n",
        "# print(\"Done with all the posters!\")"
      ]
    },
    {
      "cell_type": "code",
      "execution_count": null,
      "metadata": {
        "id": "gVLj8NKtz4Gy"
      },
      "outputs": [],
      "source": [
        "# allnames=os.listdir(poster_folder)\n",
        "# imnames=[j for j in allnames if j.endswith('.jpg')]\n",
        "# print(\"Total images = \",len(imnames))"
      ]
    },
    {
      "cell_type": "code",
      "execution_count": null,
      "metadata": {
        "id": "3i0TCcJx3yz6"
      },
      "outputs": [],
      "source": [
        "# print(len(movies_no_poster))\n",
        "# print (len(poster_movies))"
      ]
    },
    {
      "cell_type": "code",
      "execution_count": null,
      "metadata": {
        "id": "MwXa-Mvf3yz6"
      },
      "outputs": [],
      "source": [
        "# f=open('poster_movies.pckl','wb')\n",
        "# pickle.dump(poster_movies,f)\n",
        "# f.close()"
      ]
    },
    {
      "cell_type": "code",
      "execution_count": null,
      "metadata": {
        "id": "Kxs9N7j33yz7"
      },
      "outputs": [],
      "source": [
        "# f=open('poster_movies.pckl','rb')\n",
        "# poster_movies=pickle.load(f)\n",
        "# f.close()"
      ]
    },
    {
      "cell_type": "code",
      "execution_count": null,
      "metadata": {
        "id": "_ymIbqnB3yz7"
      },
      "outputs": [],
      "source": [
        "# f=open('no_poster_movies.pckl','wb')\n",
        "# pickle.dump(movies_no_poster,f)\n",
        "# f.close()"
      ]
    },
    {
      "cell_type": "code",
      "execution_count": null,
      "metadata": {
        "id": "qJIcBSmu3yz7"
      },
      "outputs": [],
      "source": [
        "# f=open('no_poster_movies.pckl','rb')\n",
        "# movies_no_poster=pickle.load(f)\n",
        "# f.close()"
      ]
    },
    {
      "cell_type": "code",
      "execution_count": null,
      "metadata": {
        "id": "i3h4KGBR3yz8"
      },
      "outputs": [],
      "source": [
        "# movies_with_overviews=[]\n",
        "# for i in range(len(no_duplicate_movies)):\n",
        "#     movie=no_duplicate_movies[i]\n",
        "#     id=movie['id']\n",
        "#     overview=movie['overview']\n",
        "\n",
        "#     if len(overview)==0:\n",
        "#         continue\n",
        "#     else:\n",
        "#         movies_with_overviews.append(movie)\n",
        "\n",
        "# len(movies_with_overviews)"
      ]
    },
    {
      "cell_type": "code",
      "execution_count": null,
      "metadata": {
        "id": "KK36mayu3yz8"
      },
      "outputs": [],
      "source": [
        "# # genres=np.zeros((len(top1000_movies),3))\n",
        "# genres=[]\n",
        "# all_ids=[]\n",
        "# for i in range(len(movies_with_overviews)):\n",
        "#     movie=movies_with_overviews[i]\n",
        "#     id=movie['id']\n",
        "#     genre_ids=movie['genre_ids']\n",
        "#     genres.append(genre_ids)\n",
        "#     all_ids.extend(genre_ids)"
      ]
    },
    {
      "cell_type": "code",
      "execution_count": null,
      "metadata": {
        "id": "JqmBArym3yz8"
      },
      "outputs": [],
      "source": [
        "# from sklearn.preprocessing import MultiLabelBinarizer\n",
        "# mlb=MultiLabelBinarizer()\n",
        "# Y=mlb.fit_transform(genres)"
      ]
    },
    {
      "cell_type": "code",
      "execution_count": null,
      "metadata": {
        "id": "33yOf1lP3yz8"
      },
      "outputs": [],
      "source": [
        "# genres[1]"
      ]
    },
    {
      "cell_type": "code",
      "execution_count": null,
      "metadata": {
        "id": "5NjWI1U13yz8"
      },
      "outputs": [],
      "source": [
        "# print(Y.shape)\n",
        "# print(np.sum(Y, axis=0))"
      ]
    },
    {
      "cell_type": "code",
      "execution_count": null,
      "metadata": {
        "id": "53XRC4Sp3yz9"
      },
      "outputs": [],
      "source": [
        "# len(list_of_genres)"
      ]
    },
    {
      "cell_type": "code",
      "execution_count": null,
      "metadata": {
        "id": "l3tB_QVY3yz9"
      },
      "outputs": [],
      "source": [
        "# # Create a tmdb genre object!\n",
        "# genres=tmdb.Genres()\n",
        "# # the list() method of the Genres() class returns a listing of all genres in the form of a dictionary.\n",
        "# list_of_genres=genres.movie_list()['genres']\n",
        "# Genre_ID_to_name={}\n",
        "# for i in range(len(list_of_genres)):\n",
        "#     genre_id=list_of_genres[i]['id']\n",
        "#     genre_name=list_of_genres[i]['name']\n",
        "#     Genre_ID_to_name[genre_id]=genre_name"
      ]
    },
    {
      "cell_type": "code",
      "execution_count": null,
      "metadata": {
        "id": "1XMm6gsd3yz9"
      },
      "outputs": [],
      "source": [
        "# for i in set(all_ids):\n",
        "#     if i not in Genre_ID_to_name.keys():\n",
        "#         print(i)"
      ]
    },
    {
      "cell_type": "code",
      "execution_count": null,
      "metadata": {
        "id": "LbIcYQHF3yz9"
      },
      "outputs": [],
      "source": [
        "# Genre_ID_to_name[10769]=\"Foreign\" #Adding it to the dictionary"
      ]
    },
    {
      "cell_type": "code",
      "execution_count": null,
      "metadata": {
        "id": "_oNouhkr3yz9"
      },
      "outputs": [],
      "source": [
        "# len(Genre_ID_to_name.keys())"
      ]
    },
    {
      "cell_type": "code",
      "execution_count": null,
      "metadata": {
        "id": "HcgzyHXU3yz-"
      },
      "outputs": [],
      "source": [
        "# sample_movie=movies_with_overviews[5]\n",
        "# sample_overview=sample_movie['overview']\n",
        "# sample_title=sample_movie['title']\n",
        "# print(\"The overview for the movie\",sample_title,\" is - \\n\\n\")\n",
        "# print(sample_overview)"
      ]
    },
    {
      "cell_type": "code",
      "execution_count": null,
      "metadata": {
        "id": "Jlf4nU9t3yz-"
      },
      "outputs": [],
      "source": [
        "# from sklearn.feature_extraction.text import CountVectorizer\n",
        "# import re"
      ]
    },
    {
      "cell_type": "code",
      "execution_count": null,
      "metadata": {
        "id": "wYToTYts3yz-"
      },
      "outputs": [],
      "source": [
        "# content=[]\n",
        "# for i in range(len(movies_with_overviews)):\n",
        "#     movie=movies_with_overviews[i]\n",
        "#     id=movie['id']\n",
        "#     overview=movie['overview']\n",
        "#     overview=overview.replace(',','')\n",
        "#     overview=overview.replace('.','')\n",
        "#     content.append(overview)"
      ]
    },
    {
      "cell_type": "code",
      "execution_count": null,
      "metadata": {
        "id": "q8W53Fav3yz-"
      },
      "outputs": [],
      "source": [
        "# print(content[0])\n",
        "# print(len(content))"
      ]
    },
    {
      "cell_type": "code",
      "execution_count": null,
      "metadata": {
        "id": "PnLm3YOu3yz_"
      },
      "outputs": [],
      "source": [
        "# get_movie_info_tmdb('The Matrix')['overview']"
      ]
    },
    {
      "cell_type": "code",
      "execution_count": null,
      "metadata": {
        "id": "xgzdvoPY3y0A"
      },
      "outputs": [],
      "source": [
        "# # The min_df paramter makes sure we exclude words that only occur very rarely\n",
        "# # The default also is to exclude any words that occur in every movie description\n",
        "# vectorize=CountVectorizer(max_df=0.95, min_df=0.005)\n",
        "# X=vectorize.fit_transform(content)"
      ]
    },
    {
      "cell_type": "code",
      "execution_count": null,
      "metadata": {
        "id": "h5Z358cJ3y0A"
      },
      "outputs": [],
      "source": [
        "# X.shape"
      ]
    },
    {
      "cell_type": "code",
      "execution_count": null,
      "metadata": {
        "id": "-Gj_yD2f3y0B"
      },
      "outputs": [],
      "source": [
        "# import pickle\n",
        "# f4=open('X.pckl','wb')\n",
        "# f5=open('Y.pckl','wb')\n",
        "# pickle.dump(X,f4)\n",
        "# pickle.dump(Y,f5)\n",
        "# f6=open('Genredict.pckl','wb')\n",
        "# pickle.dump(Genre_ID_to_name,f6)\n",
        "# f4.close()\n",
        "# f5.close()\n",
        "# f6.close()\n",
        "# latest commented out, uncomment this first to troubleshoot"
      ]
    },
    {
      "cell_type": "code",
      "execution_count": null,
      "metadata": {
        "id": "LeYFXpaM9rP_"
      },
      "outputs": [],
      "source": [
        "f4=open('X.pckl','rb')\n",
        "f5=open('Y.pckl','rb')\n",
        "f6=open('Genredict.pckl','rb')\n",
        "X=pickle.load(f4)\n",
        "Y=pickle.load(f5)\n",
        "Genre_ID_to_name=pickle.load(f6)\n",
        "f4.close()\n",
        "f5.close()\n",
        "f6.close()"
      ]
    },
    {
      "cell_type": "code",
      "execution_count": null,
      "metadata": {
        "id": "Pl5NRDQA3y0C"
      },
      "outputs": [],
      "source": [
        "from sklearn.feature_extraction.text import TfidfTransformer"
      ]
    },
    {
      "cell_type": "code",
      "execution_count": null,
      "metadata": {
        "colab": {
          "base_uri": "https://localhost:8080/"
        },
        "id": "mBIvIOYU3y0C",
        "outputId": "02e06190-6d42-43bc-8e55-5a60168ac2f4"
      },
      "outputs": [
        {
          "output_type": "execute_result",
          "data": {
            "text/plain": [
              "(1683, 1158)"
            ]
          },
          "metadata": {},
          "execution_count": 204
        }
      ],
      "source": [
        "tfidf_transformer = TfidfTransformer()\n",
        "X_tfidf = tfidf_transformer.fit_transform(X)\n",
        "X_tfidf.shape"
      ]
    },
    {
      "cell_type": "code",
      "execution_count": null,
      "metadata": {
        "id": "b1WvHnU03y0C"
      },
      "outputs": [],
      "source": [
        "msk = np.random.rand(X_tfidf.shape[0]) < 0.8"
      ]
    },
    {
      "cell_type": "code",
      "execution_count": null,
      "metadata": {
        "id": "tYi2JMRi3y0C"
      },
      "outputs": [],
      "source": [
        "# X_train_tfidf=X_tfidf[msk]\n",
        "# X_test_tfidf=X_tfidf[~msk]\n",
        "# Y_train=Y[msk]\n",
        "# Y_test=Y[~msk]\n",
        "# positions=range(len(movies_with_overviews))\n",
        "# # print positions\n",
        "# test_movies=np.asarray(positions)[~msk]\n",
        "# # test_movies"
      ]
    },
    {
      "cell_type": "code",
      "execution_count": null,
      "metadata": {
        "id": "DEWcOsG73y0D"
      },
      "outputs": [],
      "source": [
        "from sklearn.multiclass import OneVsRestClassifier\n",
        "from sklearn.svm import SVC\n",
        "from sklearn.model_selection import GridSearchCV\n",
        "from sklearn.metrics import f1_score\n",
        "from sklearn.metrics import make_scorer\n",
        "from sklearn.metrics import classification_report"
      ]
    },
    {
      "cell_type": "code",
      "execution_count": null,
      "metadata": {
        "id": "dbyYH-gS3y0D"
      },
      "outputs": [],
      "source": [
        "# parameters = {'kernel':['linear'], 'C':[0.01, 0.1, 1.0]}\n",
        "# gridCV = GridSearchCV(SVC(class_weight='balanced'), parameters, scoring=make_scorer(f1_score, average='micro'))\n",
        "# classif = OneVsRestClassifier(gridCV)\n",
        "\n",
        "# classif.fit(X_train_tfidf, Y_train)"
      ]
    },
    {
      "cell_type": "code",
      "execution_count": null,
      "metadata": {
        "id": "hoLTJqnS3y0D"
      },
      "outputs": [],
      "source": [
        "# predstfidf=classif.predict(X_test_tfidf)\n",
        "\n",
        "# print(classification_report(Y_test, predstfidf))"
      ]
    },
    {
      "cell_type": "code",
      "execution_count": null,
      "metadata": {
        "id": "EhQatQdg3y0D"
      },
      "outputs": [],
      "source": [
        "genre_list=sorted(list(Genre_ID_to_name.keys()))"
      ]
    },
    {
      "cell_type": "code",
      "execution_count": null,
      "metadata": {
        "id": "yMg9YBXW3y0D"
      },
      "outputs": [],
      "source": [
        "# predictions=[]\n",
        "# for i in range(X_test_tfidf.shape[0]):\n",
        "#     pred_genres=[]\n",
        "#     movie_label_scores=predstfidf[i]\n",
        "# #     print movie_label_scores\n",
        "#     for j in range(19):\n",
        "#         #print j\n",
        "#         if movie_label_scores[j]!=0:\n",
        "#             genre=Genre_ID_to_name[genre_list[j]]\n",
        "#             pred_genres.append(genre)\n",
        "#     predictions.append(pred_genres)"
      ]
    },
    {
      "cell_type": "code",
      "execution_count": null,
      "metadata": {
        "id": "C41UHNBH3y0D"
      },
      "outputs": [],
      "source": [
        "# import pickle\n",
        "# f=open('classifer_svc','wb')\n",
        "# pickle.dump(classif,f)\n",
        "# f.close()"
      ]
    },
    {
      "cell_type": "code",
      "execution_count": null,
      "metadata": {
        "id": "MxizUDX-3y0D"
      },
      "outputs": [],
      "source": [
        "# for i in range(X_test_tfidf.shape[0]):\n",
        "#     if i%50==0 and i!=0:\n",
        "#         print('MOVIE: ',movies_with_overviews[i]['title'],'\\tPREDICTION: ',','.join(predictions[i]))"
      ]
    },
    {
      "cell_type": "code",
      "execution_count": null,
      "metadata": {
        "id": "smsbR1Wa3y0E"
      },
      "outputs": [],
      "source": [
        "# from sklearn.naive_bayes import MultinomialNB\n",
        "# classifnb = OneVsRestClassifier(MultinomialNB())\n",
        "# classifnb.fit(X[msk].toarray(), Y_train)\n",
        "# predsnb=classifnb.predict(X[~msk].toarray())"
      ]
    },
    {
      "cell_type": "code",
      "execution_count": null,
      "metadata": {
        "id": "HEogfN8y3y0E"
      },
      "outputs": [],
      "source": [
        "# import pickle\n",
        "# f2=open('classifer_nb','wb')\n",
        "# pickle.dump(classifnb,f2)\n",
        "# f2.close()"
      ]
    },
    {
      "cell_type": "code",
      "execution_count": null,
      "metadata": {
        "id": "H0aro8mI3y0E"
      },
      "outputs": [],
      "source": [
        "# predictionsnb=[]\n",
        "# for i in range(X_test_tfidf.shape[0]):\n",
        "#     pred_genres=[]\n",
        "#     movie_label_scores=predsnb[i]\n",
        "#     for j in range(19):\n",
        "#         #print j\n",
        "#         if movie_label_scores[j]!=0:\n",
        "#             genre=Genre_ID_to_name[genre_list[j]]\n",
        "#             pred_genres.append(genre)\n",
        "#     predictionsnb.append(pred_genres)"
      ]
    },
    {
      "cell_type": "code",
      "execution_count": null,
      "metadata": {
        "id": "uE2NOkjd3y0E"
      },
      "outputs": [],
      "source": [
        "# for i in range(X_test_tfidf.shape[0]):\n",
        "#     if i%50==0 and i!=0:\n",
        "#         print('MOVIE: ',movies_with_overviews[i]['title'],'\\tPREDICTION: ',','.join(predictionsnb[i]))"
      ]
    },
    {
      "cell_type": "code",
      "execution_count": null,
      "metadata": {
        "id": "_XDbNeKO3y0F"
      },
      "outputs": [],
      "source": [
        "# def precision_recall(gt,preds):\n",
        "#     TP=0\n",
        "#     FP=0\n",
        "#     FN=0\n",
        "#     for t in gt:\n",
        "#         if t in preds:\n",
        "#             TP+=1\n",
        "#         else:\n",
        "#             FN+=1\n",
        "#     for p in preds:\n",
        "#         if p not in gt:\n",
        "#             FP+=1\n",
        "#     if TP+FP==0:\n",
        "#         precision=0\n",
        "#     else:\n",
        "#         precision=TP/float(TP+FP)\n",
        "#     if TP+FN==0:\n",
        "#         recall=0\n",
        "#     else:\n",
        "#         recall=TP/float(TP+FN)\n",
        "#     return precision,recall"
      ]
    },
    {
      "cell_type": "code",
      "execution_count": null,
      "metadata": {
        "id": "1x4qrvcm3y0F"
      },
      "outputs": [],
      "source": [
        "# precs=[]\n",
        "# recs=[]\n",
        "# for i in range(len(test_movies)):\n",
        "#     if i%1==0:\n",
        "#         pos=test_movies[i]\n",
        "#         test_movie=movies_with_overviews[pos]\n",
        "#         gtids=test_movie['genre_ids']\n",
        "#         gt=[]\n",
        "#         for g in gtids:\n",
        "#             g_name=Genre_ID_to_name[g]\n",
        "#             gt.append(g_name)\n",
        "# #         print predictions[i],movies_with_overviews[i]['title'],gt\n",
        "#         a,b=precision_recall(gt,predictions[i])\n",
        "#         precs.append(a)\n",
        "#         recs.append(b)\n",
        "\n",
        "# print(np.mean(np.asarray(precs)),np.mean(np.asarray(recs)))"
      ]
    },
    {
      "cell_type": "code",
      "execution_count": null,
      "metadata": {
        "id": "4Ecmt9Gq3y0G"
      },
      "outputs": [],
      "source": [
        "# precs=[]\n",
        "# recs=[]\n",
        "# for i in range(len(test_movies)):\n",
        "#     if i%1==0:\n",
        "#         pos=test_movies[i]\n",
        "#         test_movie=movies_with_overviews[pos]\n",
        "#         gtids=test_movie['genre_ids']\n",
        "#         gt=[]\n",
        "#         for g in gtids:\n",
        "#             g_name=Genre_ID_to_name[g]\n",
        "#             gt.append(g_name)\n",
        "# #         print predictions[i],movies_with_overviews[i]['title'],gt\n",
        "#         a,b=precision_recall(gt,predictionsnb[i])\n",
        "#         precs.append(a)\n",
        "#         recs.append(b)\n",
        "\n",
        "# print(np.mean(np.asarray(precs)),np.mean(np.asarray(recs)))"
      ]
    },
    {
      "cell_type": "code",
      "execution_count": null,
      "metadata": {
        "id": "qBMNiU_43y0I"
      },
      "outputs": [],
      "source": [
        "# # Loading the list of movies we had downloaded posters for eariler -\n",
        "# f=open('poster_movies.pckl','rb')\n",
        "# poster_movies=pickle.load(f)\n",
        "# f.close()"
      ]
    },
    {
      "cell_type": "code",
      "execution_count": null,
      "metadata": {
        "id": "3bj7hKBL3y0I"
      },
      "outputs": [],
      "source": [
        "# from keras.applications.vgg16 import VGG16\n",
        "# from keras.preprocessing import image\n",
        "# from keras.applications.vgg16 import preprocess_input\n",
        "# import numpy as np\n",
        "# import pickle\n",
        "# model = VGG16(weights='imagenet', include_top=False)"
      ]
    },
    {
      "cell_type": "code",
      "execution_count": null,
      "metadata": {
        "id": "bRPRD8jC3y0I"
      },
      "outputs": [],
      "source": [
        "# allnames=os.listdir(poster_folder)\n",
        "# imnames=[j for j in allnames if j.endswith('.jpg')]\n",
        "# feature_list=[]\n",
        "# genre_list=[]\n",
        "# file_order=[]\n",
        "# print(\"Starting extracting VGG features for scraped images. This will take time, Please be patient...\")\n",
        "# print(\"Total images = \",len(imnames))\n",
        "# failed_files=[]\n",
        "# succesful_files=[]\n",
        "# i=0\n",
        "# for mov in poster_movies:\n",
        "#     i+=1\n",
        "#     mov_name=mov['original_title']\n",
        "#     mov_name1=mov_name.replace(':','/')\n",
        "#     poster_name=mov_name.replace(' ','_')+'.jpg'\n",
        "#     if poster_name in imnames:\n",
        "#         img_path=poster_folder+poster_name\n",
        "#         try:\n",
        "#           img = image.load_img(img_path, target_size=(224, 224))\n",
        "#           succesful_files.append(poster_name)\n",
        "#           x = image.img_to_array(img)\n",
        "#           x = np.expand_dims(x, axis=0)\n",
        "#           x = preprocess_input(x)\n",
        "#           features = model.predict(x)\n",
        "#           print(features.shape)\n",
        "#           print(model.predict(x))\n",
        "#           file_order.append(img_path)\n",
        "#           feature_list.append(features)\n",
        "#           genre_list.append(mov['genre_ids'])\n",
        "#           if np.max(np.asarray(feature_list))==0.0:\n",
        "#               print('problematic',i)\n",
        "#           if i%250==0 or i==1:\n",
        "#               print(\"Working on Image : \", i)\n",
        "#         except:\n",
        "#             failed_files.append(poster_name)\n",
        "#         continue\n",
        "\n",
        "#     else:\n",
        "#         continue\n",
        "# print(\"Done with all features, please pickle for future use!\")"
      ]
    },
    {
      "cell_type": "code",
      "execution_count": null,
      "metadata": {
        "id": "igT200Gh3y0I"
      },
      "outputs": [],
      "source": [
        "# len(genre_list)"
      ]
    },
    {
      "cell_type": "code",
      "execution_count": null,
      "metadata": {
        "id": "r1koNAFa3y0I"
      },
      "outputs": [],
      "source": [
        "# len(feature_list)"
      ]
    },
    {
      "cell_type": "code",
      "execution_count": null,
      "metadata": {
        "id": "mRTr-unm3y0I"
      },
      "outputs": [],
      "source": [
        "# print(type(feature_list[0]))\n",
        "# feature_list[0].shape"
      ]
    },
    {
      "cell_type": "code",
      "execution_count": null,
      "metadata": {
        "id": "FcFfimyQ3y0J"
      },
      "outputs": [],
      "source": [
        "# Reading from pickle below, this code is not to be run.\n",
        "# list_pickled=(feature_list,file_order,failed_files,succesful_files,genre_list)\n",
        "# f=open('posters_new_features.pckl','wb')\n",
        "# pickle.dump(list_pickled,f)\n",
        "# f.close()\n",
        "# print(\"Features dumped to pickle file\")"
      ]
    },
    {
      "cell_type": "code",
      "execution_count": null,
      "metadata": {
        "id": "jzUpxXCZ3y0J"
      },
      "outputs": [],
      "source": [
        "# f7=open('posters_new_features.pckl','rb')\n",
        "# list_pickled=pickle.load(f7)\n",
        "# f7.close()\n",
        "# # (feature_list2,file_order2)=list_pickled"
      ]
    },
    {
      "cell_type": "code",
      "execution_count": null,
      "metadata": {
        "id": "ia6NR96b3y0J"
      },
      "outputs": [],
      "source": [
        "# (feature_list,files,failed,succesful,genre_list)=list_pickled\n"
      ]
    },
    {
      "cell_type": "code",
      "execution_count": null,
      "metadata": {
        "id": "s5bl20793y0J"
      },
      "outputs": [],
      "source": [
        "# (a,b,c,d)=feature_list[0].shape\n",
        "# feature_size=a*b*c*d\n",
        "# feature_size"
      ]
    },
    {
      "cell_type": "code",
      "execution_count": null,
      "metadata": {
        "id": "RoKJPLUJ3y0K"
      },
      "outputs": [],
      "source": [
        "# np_features=np.zeros((len(feature_list),feature_size))\n",
        "# for i in range(len(feature_list)):\n",
        "#     feat=feature_list[i]\n",
        "#     reshaped_feat=feat.reshape(1,-1)\n",
        "#     np_features[i]=reshaped_feat"
      ]
    },
    {
      "cell_type": "code",
      "execution_count": null,
      "metadata": {
        "id": "_BAabmjL3y0K"
      },
      "outputs": [],
      "source": [
        "# np_features[-1]"
      ]
    },
    {
      "cell_type": "code",
      "execution_count": null,
      "metadata": {
        "id": "3Slr4dIm3y0K"
      },
      "outputs": [],
      "source": [
        "# X=np_features"
      ]
    },
    {
      "cell_type": "code",
      "execution_count": null,
      "metadata": {
        "id": "Hi8o65ur3y0K"
      },
      "outputs": [],
      "source": [
        "# from sklearn.preprocessing import MultiLabelBinarizer\n",
        "# mlb=MultiLabelBinarizer()\n",
        "# Y=mlb.fit_transform(genre_list)"
      ]
    },
    {
      "cell_type": "code",
      "execution_count": null,
      "metadata": {
        "id": "qHGLTKvq3y0K"
      },
      "outputs": [],
      "source": [
        "# Y.shape"
      ]
    },
    {
      "cell_type": "code",
      "execution_count": null,
      "metadata": {
        "id": "HRTRFpoW3y0L"
      },
      "outputs": [],
      "source": [
        "# visual_problem_data=(X,Y)\n",
        "# f8=open('visual_problem_data_clean.pckl','wb')\n",
        "# pickle.dump(visual_problem_data,f8)\n",
        "# f8.close()"
      ]
    },
    {
      "cell_type": "code",
      "execution_count": null,
      "metadata": {
        "id": "AGMmyxT43y0L"
      },
      "outputs": [],
      "source": [
        "f8=open('visual_problem_data_clean.pckl','rb')\n",
        "visual_features=pickle.load(f8)\n",
        "f8.close()"
      ]
    },
    {
      "cell_type": "code",
      "execution_count": null,
      "metadata": {
        "id": "ej_N59Ht3y0L"
      },
      "outputs": [],
      "source": [
        "(X,Y)=visual_features"
      ]
    },
    {
      "cell_type": "code",
      "execution_count": null,
      "metadata": {
        "colab": {
          "base_uri": "https://localhost:8080/"
        },
        "id": "7x9CizYR3y0L",
        "outputId": "5503c9bf-b7e2-406c-dc83-db16c552b368"
      },
      "outputs": [
        {
          "output_type": "execute_result",
          "data": {
            "text/plain": [
              "(1643, 25088)"
            ]
          },
          "metadata": {},
          "execution_count": 239
        }
      ],
      "source": [
        "X.shape"
      ]
    },
    {
      "cell_type": "code",
      "execution_count": null,
      "metadata": {
        "id": "wXr3pU6R3y0L"
      },
      "outputs": [],
      "source": [
        "mask = np.random.rand(len(X)) < 0.8"
      ]
    },
    {
      "cell_type": "code",
      "execution_count": null,
      "metadata": {
        "id": "1mGqbmJc3y0L"
      },
      "outputs": [],
      "source": [
        "X_train=X[mask]\n",
        "X_test=X[~mask]\n",
        "Y_train=Y[mask]\n",
        "Y_test=Y[~mask]"
      ]
    },
    {
      "cell_type": "code",
      "execution_count": null,
      "metadata": {
        "colab": {
          "base_uri": "https://localhost:8080/"
        },
        "id": "a5kpk3AP3y0L",
        "outputId": "9b261fdf-13b4-4329-df4d-0691f87d57de"
      },
      "outputs": [
        {
          "output_type": "execute_result",
          "data": {
            "text/plain": [
              "(321, 19)"
            ]
          },
          "metadata": {},
          "execution_count": 242
        }
      ],
      "source": [
        "X_test.shape\n",
        "Y_test.shape"
      ]
    },
    {
      "cell_type": "code",
      "execution_count": null,
      "metadata": {
        "id": "3f1oUHUu3y0M"
      },
      "outputs": [],
      "source": [
        "# Y_train[115]"
      ]
    },
    {
      "cell_type": "code",
      "execution_count": null,
      "metadata": {
        "id": "T51xiCna3y0M"
      },
      "outputs": [],
      "source": [
        "#from tensorflow import keras\n",
        "from keras.models import Sequential, load_model\n",
        "from keras.layers import Dense, Activation\n",
        "from keras import optimizers\n",
        "# model_visual = Sequential([\n",
        "#     Dense(1024, input_shape=(25088,)),\n",
        "#     Activation('relu'),\n",
        "#     Dense(256),\n",
        "#     Activation('relu'),\n",
        "#     Dense(19),\n",
        "#     Activation('sigmoid'),\n",
        "# ])\n",
        "# # legacy below\n",
        "# opt = optimizers.RMSprop(learning_rate=0.0001, rho=0.9, epsilon=1e-07)\n",
        "\n",
        "# #sgd = optimizers.SGD(lr=0.05, decay=1e-6, momentum=0.4, nesterov=False)\n",
        "# model_visual.compile(optimizer=opt,\n",
        "#               loss='binary_crossentropy',\n",
        "#               metrics=['accuracy'])"
      ]
    },
    {
      "cell_type": "code",
      "execution_count": null,
      "metadata": {
        "id": "LnhMwRHO3y0M"
      },
      "outputs": [],
      "source": [
        "# model_visual.fit(X_train, Y_train, epochs=10, batch_size=64,verbose=1)"
      ]
    },
    {
      "cell_type": "code",
      "execution_count": null,
      "metadata": {
        "id": "idj5K6Jh3y0M"
      },
      "outputs": [],
      "source": [
        "# model_visual.fit(X_train, Y_train, epochs=50, batch_size=64,verbose=0)"
      ]
    },
    {
      "cell_type": "code",
      "execution_count": null,
      "metadata": {
        "id": "O4ccTWWyVQSD"
      },
      "outputs": [],
      "source": [
        "# model_visual.save('model_visual.h5')"
      ]
    },
    {
      "cell_type": "code",
      "execution_count": null,
      "metadata": {
        "id": "TWTwptolVPCk"
      },
      "outputs": [],
      "source": [
        "# model_visual = load_model('model_visual.h5')"
      ]
    },
    {
      "cell_type": "code",
      "execution_count": null,
      "metadata": {
        "id": "0YTYGbg83y0N"
      },
      "outputs": [],
      "source": [
        "# Y_preds=model_visual.predict(X_test)"
      ]
    },
    {
      "cell_type": "code",
      "execution_count": null,
      "metadata": {
        "id": "xWL5uPbA3y0N"
      },
      "outputs": [],
      "source": [
        "# sum(sum(Y_preds))"
      ]
    },
    {
      "cell_type": "code",
      "execution_count": null,
      "metadata": {
        "id": "8qlW1MQN3y0N"
      },
      "outputs": [],
      "source": [
        "f6=open('Genredict.pckl','rb')\n",
        "Genre_ID_to_name=pickle.load(f6)\n",
        "f6.close()"
      ]
    },
    {
      "cell_type": "code",
      "execution_count": null,
      "metadata": {
        "id": "tHscZ_bm3y0N"
      },
      "outputs": [],
      "source": [
        "# sum(Y_preds[1])"
      ]
    },
    {
      "cell_type": "code",
      "execution_count": null,
      "metadata": {
        "id": "Gs05dF0r3y0N"
      },
      "outputs": [],
      "source": [
        "# sum(Y_preds[2])"
      ]
    },
    {
      "cell_type": "code",
      "execution_count": null,
      "metadata": {
        "id": "pKKgOc1S3y0N"
      },
      "outputs": [],
      "source": [
        "genre_list=sorted(list(Genre_ID_to_name.keys()))"
      ]
    },
    {
      "cell_type": "code",
      "execution_count": null,
      "metadata": {
        "id": "WF_aQpay3y0N"
      },
      "outputs": [],
      "source": [
        "# precs=[]\n",
        "# recs=[]\n",
        "# for i in range(len(Y_preds)):\n",
        "#     row=Y_preds[i]\n",
        "#     gt_genres=Y_test[i]\n",
        "#     gt_genre_names=[]\n",
        "#     for j in range(19):\n",
        "#         if gt_genres[j]==1:\n",
        "#             gt_genre_names.append(Genre_ID_to_name[genre_list[j]])\n",
        "#     top_3=np.argsort(row)[-3:]\n",
        "#     predicted_genres=[]\n",
        "#     for genre in top_3:\n",
        "#         predicted_genres.append(Genre_ID_to_name[genre_list[genre]])\n",
        "#     (precision,recall)=precision_recall(gt_genre_names,predicted_genres)\n",
        "#     precs.append(precision)\n",
        "#     recs.append(recall)\n",
        "#     if i%50==0:\n",
        "#         print(\"Predicted: \",','.join(predicted_genres),\" Actual: \",','.join(gt_genre_names))"
      ]
    },
    {
      "cell_type": "code",
      "execution_count": null,
      "metadata": {
        "id": "nCmji89l3y0O"
      },
      "outputs": [],
      "source": [
        "# print(np.mean(np.asarray(precs)),np.mean(np.asarray(recs)))"
      ]
    },
    {
      "cell_type": "code",
      "execution_count": null,
      "metadata": {
        "id": "2fR96tw83y0P"
      },
      "outputs": [],
      "source": [
        "from gensim import models\n",
        "# model2 = models.Word2Vec.load_word2vec_format('GoogleNews-vectors-negative300.bin', binary=True)\n",
        "model2 = models.KeyedVectors.load_word2vec_format('GoogleNews-vectors-negative300.bin', binary=True)"
      ]
    },
    {
      "cell_type": "code",
      "execution_count": null,
      "metadata": {
        "id": "BqZKp4c83y0P"
      },
      "outputs": [],
      "source": [
        "# print(model2['king'].shape)\n",
        "# print(model2['dog'].shape)"
      ]
    },
    {
      "cell_type": "code",
      "execution_count": null,
      "metadata": {
        "colab": {
          "base_uri": "https://localhost:8080/"
        },
        "id": "tAro3F0T3y0P",
        "outputId": "402177b7-541d-46df-a2c8-936f1b8e8a9f"
      },
      "outputs": [
        {
          "output_type": "execute_result",
          "data": {
            "text/plain": [
              "1683"
            ]
          },
          "metadata": {},
          "execution_count": 259
        }
      ],
      "source": [
        "# final_movies_set = movies_with_overviews\n",
        "# len(final_movies_set)"
      ]
    },
    {
      "cell_type": "code",
      "execution_count": null,
      "metadata": {
        "id": "2nWetSfw3y0Q"
      },
      "outputs": [],
      "source": [
        "from nltk.tokenize import RegexpTokenizer\n",
        "from stop_words import get_stop_words\n",
        "tokenizer = RegexpTokenizer(r'\\w+')\n",
        "\n",
        "# create English stop words list\n",
        "en_stop = get_stop_words('en')"
      ]
    },
    {
      "cell_type": "code",
      "execution_count": null,
      "metadata": {
        "id": "x6t7a32A3y0Q"
      },
      "outputs": [],
      "source": [
        "# movie_mean_wordvec=np.zeros((len(final_movies_set),300))\n",
        "# movie_mean_wordvec.shape"
      ]
    },
    {
      "cell_type": "code",
      "execution_count": null,
      "metadata": {
        "id": "Mzih36pN3y0R"
      },
      "outputs": [],
      "source": [
        "# genres=[]\n",
        "# rows_to_delete=[]\n",
        "# for i in range(len(final_movies_set)):\n",
        "#     mov=final_movies_set[i]\n",
        "#     movie_genres=mov['genre_ids']\n",
        "#     genres.append(movie_genres)\n",
        "#     overview=mov['overview']\n",
        "#     tokens = tokenizer.tokenize(overview)\n",
        "#     stopped_tokens = [k for k in tokens if not k in en_stop]\n",
        "#     count_in_vocab=0\n",
        "#     s=0\n",
        "#     if len(stopped_tokens)==0:\n",
        "#         rows_to_delete.append(i)\n",
        "#         genres.pop(-1)\n",
        "# #         print overview\n",
        "# #         print \"sample \",i,\"had no nonstops\"\n",
        "#     else:\n",
        "#         for tok in stopped_tokens:\n",
        "#             if tok.lower() in model2.key_to_index:\n",
        "#                 count_in_vocab+=1\n",
        "#                 s+=model2[tok.lower()]\n",
        "#         if count_in_vocab!=0:\n",
        "#             movie_mean_wordvec[i]=s/float(count_in_vocab)\n",
        "#         else:\n",
        "#             rows_to_delete.append(i)\n",
        "#             genres.pop(-1)\n",
        "# #             print overview\n",
        "# #             print \"sample \",i,\"had no word2vec\""
      ]
    },
    {
      "cell_type": "code",
      "execution_count": null,
      "metadata": {
        "id": "1G2-SVFi3y0R"
      },
      "outputs": [],
      "source": [
        "# len(genres)"
      ]
    },
    {
      "cell_type": "code",
      "execution_count": null,
      "metadata": {
        "id": "k2wwgniQ3y0R"
      },
      "outputs": [],
      "source": [
        "# mask2=[]\n",
        "# for row in range(len(movie_mean_wordvec)):\n",
        "#     if row in rows_to_delete:\n",
        "#         mask2.append(False)\n",
        "#     else:\n",
        "#         mask2.append(True)"
      ]
    },
    {
      "cell_type": "code",
      "execution_count": null,
      "metadata": {
        "id": "KFkbr0QF3y0V"
      },
      "outputs": [],
      "source": [
        "# X=movie_mean_wordvec[mask2]"
      ]
    },
    {
      "cell_type": "code",
      "execution_count": null,
      "metadata": {
        "id": "lfb_yvD83y0V"
      },
      "outputs": [],
      "source": [
        "# X.shape"
      ]
    },
    {
      "cell_type": "code",
      "execution_count": null,
      "metadata": {
        "id": "hJ3aOSAB3y0V"
      },
      "outputs": [],
      "source": [
        "# Y=mlb.fit_transform(genres)"
      ]
    },
    {
      "cell_type": "code",
      "execution_count": null,
      "metadata": {
        "id": "5aDurUkz3y0V"
      },
      "outputs": [],
      "source": [
        "# Y.shape"
      ]
    },
    {
      "cell_type": "code",
      "execution_count": null,
      "metadata": {
        "id": "8ZDgyw4G3y0W"
      },
      "outputs": [],
      "source": [
        "# textual_features=(X,Y)\n",
        "# f9=open('textual_features.pckl','wb')\n",
        "# pickle.dump(textual_features,f9)\n",
        "# f9.close()"
      ]
    },
    {
      "cell_type": "code",
      "execution_count": null,
      "metadata": {
        "id": "wKA0MDy63y0W"
      },
      "outputs": [],
      "source": [
        "# textual_features=(X,Y)\n",
        "f9=open('textual_features.pckl','rb')\n",
        "textual_features=pickle.load(f9)\n",
        "f9.close()"
      ]
    },
    {
      "cell_type": "code",
      "execution_count": null,
      "metadata": {
        "id": "0mu2G-lb3y0W"
      },
      "outputs": [],
      "source": [
        "(X,Y)=textual_features"
      ]
    },
    {
      "cell_type": "code",
      "execution_count": null,
      "metadata": {
        "colab": {
          "base_uri": "https://localhost:8080/"
        },
        "id": "tnupUADH3y0W",
        "outputId": "4ef3282a-1887-471e-f32d-7ac4df797729"
      },
      "outputs": [
        {
          "output_type": "execute_result",
          "data": {
            "text/plain": [
              "(1683, 300)"
            ]
          },
          "metadata": {},
          "execution_count": 272
        }
      ],
      "source": [
        "X.shape"
      ]
    },
    {
      "cell_type": "code",
      "execution_count": null,
      "metadata": {
        "colab": {
          "base_uri": "https://localhost:8080/"
        },
        "id": "TiUqT50i3y0W",
        "outputId": "924ef37e-85f6-40f2-8745-ab74e2f75bb8"
      },
      "outputs": [
        {
          "output_type": "execute_result",
          "data": {
            "text/plain": [
              "(1683, 19)"
            ]
          },
          "metadata": {},
          "execution_count": 273
        }
      ],
      "source": [
        "Y.shape"
      ]
    },
    {
      "cell_type": "code",
      "execution_count": null,
      "metadata": {
        "id": "WRJbAZE33y0W"
      },
      "outputs": [],
      "source": [
        "mask_text=np.random.rand(len(X))<0.8"
      ]
    },
    {
      "cell_type": "code",
      "execution_count": null,
      "metadata": {
        "id": "jv60x_N23y0W"
      },
      "outputs": [],
      "source": [
        "X_train=X[mask_text]\n",
        "Y_train=Y[mask_text]\n",
        "X_test=X[~mask_text]\n",
        "Y_test=Y[~mask_text]"
      ]
    },
    {
      "cell_type": "code",
      "execution_count": null,
      "metadata": {
        "id": "pGPvkBem3y0W"
      },
      "outputs": [],
      "source": [
        "from keras.models import Sequential, load_model\n",
        "from keras.layers import Dense, Activation\n",
        "\n",
        "# model_textual = Sequential([\n",
        "#     Dense(300, input_shape=(300,)),\n",
        "#     Activation('relu'),\n",
        "#     Dense(19),\n",
        "#     Activation('softmax'),\n",
        "# ])\n",
        "\n",
        "# model_textual.compile(optimizer='rmsprop',\n",
        "#               loss='binary_crossentropy',\n",
        "#               metrics=['accuracy'])"
      ]
    },
    {
      "cell_type": "code",
      "execution_count": null,
      "metadata": {
        "id": "ReP_u0FV3y0W"
      },
      "outputs": [],
      "source": [
        "# model_textual.fit(X_train, Y_train, epochs=10, batch_size=500)"
      ]
    },
    {
      "cell_type": "code",
      "execution_count": null,
      "metadata": {
        "id": "N0WWtGNC3y0W"
      },
      "outputs": [],
      "source": [
        "# model_textual.fit(X_train, Y_train, epochs=10000, batch_size=500,verbose=0)"
      ]
    },
    {
      "cell_type": "code",
      "execution_count": null,
      "metadata": {
        "id": "smjLf1o0VDPz"
      },
      "outputs": [],
      "source": [
        "# model_textual.save('model_textual.h5')"
      ]
    },
    {
      "cell_type": "code",
      "execution_count": null,
      "metadata": {
        "id": "FMwiwggxVGgS"
      },
      "outputs": [],
      "source": [
        "model_textual = load_model('model_textual.h5')"
      ]
    },
    {
      "cell_type": "code",
      "execution_count": null,
      "metadata": {
        "colab": {
          "base_uri": "https://localhost:8080/"
        },
        "id": "D0C7jsVX3y0X",
        "outputId": "578a11d1-6e4f-4c44-a2b5-bb7b0bcb825e"
      },
      "outputs": [
        {
          "output_type": "stream",
          "name": "stdout",
          "text": [
            "2/2 [==============================] - 0s 8ms/step - loss: 0.1427 - accuracy: 0.4198\n"
          ]
        }
      ],
      "source": [
        "score = model_textual.evaluate(X_test, Y_test, batch_size=249)"
      ]
    },
    {
      "cell_type": "code",
      "execution_count": null,
      "metadata": {
        "colab": {
          "base_uri": "https://localhost:8080/"
        },
        "id": "9zXf_Ipk3y0X",
        "outputId": "b8de1734-267a-4565-ac26-dcbe962c8180"
      },
      "outputs": [
        {
          "output_type": "stream",
          "name": "stdout",
          "text": [
            "accuracy: 41.98%\n"
          ]
        }
      ],
      "source": [
        "print(\"%s: %.2f%%\" % (model_textual.metrics_names[1], score[1]*100))"
      ]
    },
    {
      "cell_type": "code",
      "execution_count": null,
      "metadata": {
        "colab": {
          "base_uri": "https://localhost:8080/"
        },
        "id": "wGNVxAIl3y0X",
        "outputId": "e0ae6696-266a-4514-d244-564a78e378ef"
      },
      "outputs": [
        {
          "output_type": "stream",
          "name": "stdout",
          "text": [
            "11/11 [==============================] - 0s 2ms/step\n"
          ]
        }
      ],
      "source": [
        "Y_preds=model_textual.predict(X_test)"
      ]
    },
    {
      "cell_type": "code",
      "execution_count": null,
      "metadata": {
        "id": "_OQCuzpG3y0X"
      },
      "outputs": [],
      "source": [
        "genre_list.append(10769)"
      ]
    },
    {
      "cell_type": "code",
      "execution_count": null,
      "metadata": {
        "colab": {
          "base_uri": "https://localhost:8080/"
        },
        "id": "C4Ef1Klq3y0X",
        "outputId": "814f0e1d-113d-4b75-ee43-bf07192291f3"
      },
      "outputs": [
        {
          "output_type": "stream",
          "name": "stdout",
          "text": [
            "Our predictions for the movies are - \n",
            "\n",
            "Predicted:  ['Action', 'Comedy', 'Adventure']  Actual:  ['Adventure', 'Action', 'Comedy']\n",
            "Predicted:  ['Drama', 'Thriller', 'Horror']  Actual:  ['Drama', 'Horror', 'Thriller']\n",
            "Predicted:  ['Science Fiction', 'Adventure', 'Action']  Actual:  ['Adventure', 'Action', 'Science Fiction']\n",
            "Predicted:  ['Horror', 'Action', 'Western']  Actual:  ['Western']\n",
            "Predicted:  ['Drama', 'Music', 'Documentary']  Actual:  ['Documentary']\n",
            "Predicted:  ['Drama', 'Comedy', 'Music']  Actual:  ['Music', 'Romance']\n",
            "Predicted:  ['Animation', 'War', 'Science Fiction']  Actual:  ['Animation', 'Science Fiction', 'War']\n"
          ]
        }
      ],
      "source": [
        "print(\"Our predictions for the movies are - \\n\")\n",
        "precs=[]\n",
        "recs=[]\n",
        "for i in range(len(Y_preds)):\n",
        "    row=Y_preds[i]\n",
        "    gt_genres=Y_test[i]\n",
        "    gt_genre_names=[]\n",
        "    for j in range(19):\n",
        "        if gt_genres[j]==1:\n",
        "            gt_genre_names.append(Genre_ID_to_name[genre_list[j]])\n",
        "    top_3=np.argsort(row)[-3:]\n",
        "    predicted_genres=[]\n",
        "    for genre in top_3:\n",
        "        predicted_genres.append(Genre_ID_to_name[genre_list[genre]])\n",
        "    (precision,recall)=precision_recall(gt_genre_names,predicted_genres)\n",
        "    precs.append(precision)\n",
        "    recs.append(recall)\n",
        "    if i%50==0:\n",
        "        print(\"Predicted: \", predicted_genres, \" Actual: \", gt_genre_names)"
      ]
    },
    {
      "cell_type": "code",
      "execution_count": null,
      "metadata": {
        "colab": {
          "base_uri": "https://localhost:8080/"
        },
        "id": "8tlk2NcC3y0X",
        "outputId": "c770b4f3-6da9-4a1c-85b4-db7614d78b00"
      },
      "outputs": [
        {
          "output_type": "stream",
          "name": "stdout",
          "text": [
            "0.8046647230320699 0.8485179786200193\n"
          ]
        }
      ],
      "source": [
        "print(np.mean(np.asarray(precs)),np.mean(np.asarray(recs)))"
      ]
    },
    {
      "cell_type": "code",
      "execution_count": null,
      "metadata": {
        "id": "cb67Fc877ZnF"
      },
      "outputs": [],
      "source": [
        "# for i in range(len(Y_preds)):\n",
        "#   print(i)"
      ]
    },
    {
      "cell_type": "code",
      "execution_count": null,
      "metadata": {
        "colab": {
          "base_uri": "https://localhost:8080/"
        },
        "id": "xMKr3wfL6XgA",
        "outputId": "eae48ace-c7a6-4eb9-a5e5-6d03cf7a0e2e"
      },
      "outputs": [
        {
          "output_type": "stream",
          "name": "stdout",
          "text": [
            "Tokens: ['ana', 'a', 'college', 'student', 'interviews', 'an', 'enigmatic', 'billionaire', 'entrepreneur', 'christian', 'for', 'her', 'campus', 'periodical', 'a', 'steamy', 'sadomasochistic', 'affair', 'starts', 'between', 'the', 'two', 'whose', 'roots', 'lie', 'in', 'his', 'past']\n",
            "Stopped Tokens: ['ana', 'college', 'student', 'interviews', 'enigmatic', 'billionaire', 'entrepreneur', 'christian', 'campus', 'periodical', 'steamy', 'sadomasochistic', 'affair', 'starts', 'two', 'whose', 'roots', 'lie', 'past']\n",
            "Number of valid tokens: 19\n",
            "1/1 [==============================] - 0s 53ms/step\n",
            "Predicted genres: ['Comedy', 'Romance', 'Drama']\n"
          ]
        }
      ],
      "source": [
        "from keras.models import load_model\n",
        "from nltk.tokenize import RegexpTokenizer\n",
        "from stop_words import get_stop_words\n",
        "import numpy as np\n",
        "from gensim import models\n",
        "\n",
        "# Function to preprocess the input text\n",
        "def preprocess_text(input_text):\n",
        "    tokenizer = RegexpTokenizer(r'\\w+')\n",
        "    en_stop = get_stop_words('en')\n",
        "    tokens = tokenizer.tokenize(input_text.lower())\n",
        "    print(\"Tokens:\", tokens)\n",
        "    stopped_tokens = [token for token in tokens if token not in en_stop]\n",
        "    print(\"Stopped Tokens:\", stopped_tokens)\n",
        "    return stopped_tokens\n",
        "\n",
        "# Function to convert the preprocessed text to word vectors\n",
        "def text_to_vectors(preprocessed_text):\n",
        "    word_vectors = []\n",
        "    for token in preprocessed_text:\n",
        "       if token in model2.key_to_index:\n",
        "            word_vectors.append(model2[token])\n",
        "    print(\"Number of valid tokens:\", len(word_vectors))\n",
        "    return np.mean(word_vectors, axis=0)\n",
        "\n",
        "model_textual = load_model('model_textual.h5')\n",
        "input_text = \"Ana, a college student, interviews an enigmatic billionaire entrepreneur, Christian, for her campus' periodical. A steamy sadomasochistic affair starts between the two, whose roots lie in his past.\"\n",
        "preprocessed_text = preprocess_text(input_text)\n",
        "input_vectors = text_to_vectors(preprocessed_text)\n",
        "input_vectors = input_vectors.reshape(1, -1)\n",
        "predicted_genres = model_textual.predict(input_vectors)\n",
        "top_predicted_genres_indices = np.argsort(predicted_genres[0])[-3:]\n",
        "predicted_genres_list = [Genre_ID_to_name[genre_list[index]] for index in top_predicted_genres_indices]\n",
        "print(\"Predicted genres:\", predicted_genres_list)"
      ]
    }
  ],
  "metadata": {
    "colab": {
      "provenance": []
    },
    "kernelspec": {
      "display_name": "deeplearningproject",
      "language": "python",
      "name": "deeplearningproject"
    },
    "language_info": {
      "codemirror_mode": {
        "name": "ipython",
        "version": 2
      },
      "file_extension": ".py",
      "mimetype": "text/x-python",
      "name": "python",
      "nbconvert_exporter": "python",
      "pygments_lexer": "ipython2",
      "version": "2.7.13"
    }
  },
  "nbformat": 4,
  "nbformat_minor": 0
}